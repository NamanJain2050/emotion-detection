{
 "cells": [
  {
   "cell_type": "markdown",
   "metadata": {},
   "source": [
    "# Description\n",
    "\n",
    "We've downloaded two different datsets from two sources.\n",
    "\n",
    "1. Tweets dataset containing emotions downloaded from: http://saifmohammad.com/WebPages/EmotionIntensity-SharedTask.html\n",
    "2. Emotion classification data downloaded from: https://www.kaggle.com/eray1yildiz/emotion-classification"
   ]
  },
  {
   "cell_type": "code",
   "execution_count": 56,
   "metadata": {
    "ExecuteTime": {
     "end_time": "2020-03-31T19:55:53.517643Z",
     "start_time": "2020-03-31T19:55:53.514671Z"
    }
   },
   "outputs": [],
   "source": [
    "import pandas as pd\n",
    "import os"
   ]
  },
  {
   "cell_type": "markdown",
   "metadata": {},
   "source": [
    "# Preparing twitter dataset\n",
    "\n",
    "For each text, we have a label in dataset. For each label we also have an 'confidence' or intensity of that label (between 0 and 1). We only considered emotions with intensity > 0.5 "
   ]
  },
  {
   "cell_type": "code",
   "execution_count": 57,
   "metadata": {
    "ExecuteTime": {
     "end_time": "2020-03-31T19:55:53.687128Z",
     "start_time": "2020-03-31T19:55:53.678072Z"
    }
   },
   "outputs": [
    {
     "name": "stdout",
     "output_type": "stream",
     "text": [
      "['anger-ratings-0to1.dev.gold.txt', 'sadness-ratings-0to1.train.txt', 'fear-ratings-0to1.test.gold.txt', 'fear-ratings-0to1.dev.gold.txt', 'joy-ratings-0to1.train.txt', 'anger-ratings-0to1.train.txt', 'joy-ratings-0to1.dev.gold.txt', 'sadness-ratings-0to1.test.gold.txt', 'sadness-ratings-0to1.dev.gold.txt', 'joy-ratings-0to1.test.gold.txt', 'fear-ratings-0to1.train.txt', 'anger-ratings-0to1.test.gold.txt']\n"
     ]
    }
   ],
   "source": [
    "DATA_DIR = 'data/raw'\n",
    "\n",
    "files = os.listdir(DATA_DIR)\n",
    "print(files)\n",
    "train_files = []\n",
    "test_files = []\n",
    "\n",
    "for file in files:\n",
    "    if 'test' in file:\n",
    "        test_files.append(file)\n",
    "    else:\n",
    "        train_files.append(file)"
   ]
  },
  {
   "cell_type": "code",
   "execution_count": 58,
   "metadata": {
    "ExecuteTime": {
     "end_time": "2020-03-31T19:55:54.022792Z",
     "start_time": "2020-03-31T19:55:54.014086Z"
    }
   },
   "outputs": [],
   "source": [
    "def get_dataframe(files):\n",
    "    \n",
    "    raw_text = []\n",
    "    labels = []\n",
    "    for file in files:\n",
    "        f = open(DATA_DIR + '/' + file)\n",
    "        lines = f.readlines()\n",
    "        lines = [line.split() for line in lines]\n",
    "        lines = [line[2:] for line in lines]\n",
    "        for line in lines:\n",
    "            \n",
    "            label = line[-2]\n",
    "            confidence = line[-1]\n",
    "            if float(confidence) > 0.5:\n",
    "                line = line[:-2]\n",
    "                raw = ' '.join(line)\n",
    "                raw_text.append(raw)\n",
    "                labels.append(label)\n",
    "    \n",
    "    df = pd.DataFrame(list(zip(raw_text, labels)), columns =['text', 'label'])\n",
    "    return df"
   ]
  },
  {
   "cell_type": "code",
   "execution_count": 59,
   "metadata": {
    "ExecuteTime": {
     "end_time": "2020-03-31T19:55:54.837667Z",
     "start_time": "2020-03-31T19:55:54.549952Z"
    }
   },
   "outputs": [],
   "source": [
    "train_df = get_dataframe(train_files)\n",
    "test_df = get_dataframe(test_files)"
   ]
  },
  {
   "cell_type": "code",
   "execution_count": 60,
   "metadata": {
    "ExecuteTime": {
     "end_time": "2020-03-31T19:55:55.015469Z",
     "start_time": "2020-03-31T19:55:55.010100Z"
    }
   },
   "outputs": [
    {
     "data": {
      "text/plain": [
       "(1790, 2)"
      ]
     },
     "execution_count": 60,
     "metadata": {},
     "output_type": "execute_result"
    }
   ],
   "source": [
    "train_df.shape"
   ]
  },
  {
   "cell_type": "code",
   "execution_count": 61,
   "metadata": {
    "ExecuteTime": {
     "end_time": "2020-03-31T19:55:55.440293Z",
     "start_time": "2020-03-31T19:55:55.430223Z"
    }
   },
   "outputs": [
    {
     "data": {
      "text/html": [
       "<div>\n",
       "<style scoped>\n",
       "    .dataframe tbody tr th:only-of-type {\n",
       "        vertical-align: middle;\n",
       "    }\n",
       "\n",
       "    .dataframe tbody tr th {\n",
       "        vertical-align: top;\n",
       "    }\n",
       "\n",
       "    .dataframe thead th {\n",
       "        text-align: right;\n",
       "    }\n",
       "</style>\n",
       "<table border=\"1\" class=\"dataframe\">\n",
       "  <thead>\n",
       "    <tr style=\"text-align: right;\">\n",
       "      <th></th>\n",
       "      <th>text</th>\n",
       "      <th>label</th>\n",
       "    </tr>\n",
       "  </thead>\n",
       "  <tbody>\n",
       "    <tr>\n",
       "      <th>0</th>\n",
       "      <td>that Rutgers game was an abomination. An affro...</td>\n",
       "      <td>anger</td>\n",
       "    </tr>\n",
       "    <tr>\n",
       "      <th>1</th>\n",
       "      <td>I get mad over something so minuscule I try to...</td>\n",
       "      <td>anger</td>\n",
       "    </tr>\n",
       "    <tr>\n",
       "      <th>2</th>\n",
       "      <td>I get mad over something so minuscule I try to...</td>\n",
       "      <td>anger</td>\n",
       "    </tr>\n",
       "    <tr>\n",
       "      <th>3</th>\n",
       "      <td>eyes have been dilated. I hate the world right...</td>\n",
       "      <td>anger</td>\n",
       "    </tr>\n",
       "    <tr>\n",
       "      <th>4</th>\n",
       "      <td>One chosen by the CLP members! MP seats are no...</td>\n",
       "      <td>anger</td>\n",
       "    </tr>\n",
       "  </tbody>\n",
       "</table>\n",
       "</div>"
      ],
      "text/plain": [
       "                                                text  label\n",
       "0  that Rutgers game was an abomination. An affro...  anger\n",
       "1  I get mad over something so minuscule I try to...  anger\n",
       "2  I get mad over something so minuscule I try to...  anger\n",
       "3  eyes have been dilated. I hate the world right...  anger\n",
       "4  One chosen by the CLP members! MP seats are no...  anger"
      ]
     },
     "execution_count": 61,
     "metadata": {},
     "output_type": "execute_result"
    }
   ],
   "source": [
    "train_df.head()"
   ]
  },
  {
   "cell_type": "code",
   "execution_count": 62,
   "metadata": {
    "ExecuteTime": {
     "end_time": "2020-03-31T19:55:55.852338Z",
     "start_time": "2020-03-31T19:55:55.846744Z"
    }
   },
   "outputs": [
    {
     "data": {
      "text/plain": [
       "(1505, 2)"
      ]
     },
     "execution_count": 62,
     "metadata": {},
     "output_type": "execute_result"
    }
   ],
   "source": [
    "test_df.shape"
   ]
  },
  {
   "cell_type": "code",
   "execution_count": 63,
   "metadata": {
    "ExecuteTime": {
     "end_time": "2020-03-31T19:55:56.309833Z",
     "start_time": "2020-03-31T19:55:56.300225Z"
    }
   },
   "outputs": [
    {
     "data": {
      "text/html": [
       "<div>\n",
       "<style scoped>\n",
       "    .dataframe tbody tr th:only-of-type {\n",
       "        vertical-align: middle;\n",
       "    }\n",
       "\n",
       "    .dataframe tbody tr th {\n",
       "        vertical-align: top;\n",
       "    }\n",
       "\n",
       "    .dataframe thead th {\n",
       "        text-align: right;\n",
       "    }\n",
       "</style>\n",
       "<table border=\"1\" class=\"dataframe\">\n",
       "  <thead>\n",
       "    <tr style=\"text-align: right;\">\n",
       "      <th></th>\n",
       "      <th>text</th>\n",
       "      <th>label</th>\n",
       "    </tr>\n",
       "  </thead>\n",
       "  <tbody>\n",
       "    <tr>\n",
       "      <th>0</th>\n",
       "      <td>#afraid of the #quiet ones they are the ones w...</td>\n",
       "      <td>fear</td>\n",
       "    </tr>\n",
       "    <tr>\n",
       "      <th>1</th>\n",
       "      <td>he's a horrible person and now i gag when i se...</td>\n",
       "      <td>fear</td>\n",
       "    </tr>\n",
       "    <tr>\n",
       "      <th>2</th>\n",
       "      <td>pedicure is supposed to be nice but honestly I...</td>\n",
       "      <td>fear</td>\n",
       "    </tr>\n",
       "    <tr>\n",
       "      <th>3</th>\n",
       "      <td>you need to band together not apart #nevertrum...</td>\n",
       "      <td>fear</td>\n",
       "    </tr>\n",
       "    <tr>\n",
       "      <th>4</th>\n",
       "      <td>you need to band together not apart #nevertrum...</td>\n",
       "      <td>fear</td>\n",
       "    </tr>\n",
       "  </tbody>\n",
       "</table>\n",
       "</div>"
      ],
      "text/plain": [
       "                                                text label\n",
       "0  #afraid of the #quiet ones they are the ones w...  fear\n",
       "1  he's a horrible person and now i gag when i se...  fear\n",
       "2  pedicure is supposed to be nice but honestly I...  fear\n",
       "3  you need to band together not apart #nevertrum...  fear\n",
       "4  you need to band together not apart #nevertrum...  fear"
      ]
     },
     "execution_count": 63,
     "metadata": {},
     "output_type": "execute_result"
    }
   ],
   "source": [
    "test_df.head()"
   ]
  },
  {
   "cell_type": "code",
   "execution_count": 65,
   "metadata": {
    "ExecuteTime": {
     "end_time": "2020-03-31T19:57:17.073014Z",
     "start_time": "2020-03-31T19:57:17.042704Z"
    }
   },
   "outputs": [],
   "source": [
    "train_df.to_csv('data/raw/train.csv', index=None)\n",
    "test_df.to_csv('data/raw/test.csv', index=None)"
   ]
  },
  {
   "cell_type": "markdown",
   "metadata": {},
   "source": [
    "# Preparing kaggle dataset"
   ]
  },
  {
   "cell_type": "code",
   "execution_count": 66,
   "metadata": {
    "ExecuteTime": {
     "end_time": "2020-03-31T20:07:44.694912Z",
     "start_time": "2020-03-31T20:07:43.993072Z"
    }
   },
   "outputs": [],
   "source": [
    "data = pd.read_csv('data/raw/emotion.data')"
   ]
  },
  {
   "cell_type": "code",
   "execution_count": 67,
   "metadata": {
    "ExecuteTime": {
     "end_time": "2020-03-31T20:07:46.980022Z",
     "start_time": "2020-03-31T20:07:46.975181Z"
    }
   },
   "outputs": [
    {
     "data": {
      "text/plain": [
       "(416809, 3)"
      ]
     },
     "execution_count": 67,
     "metadata": {},
     "output_type": "execute_result"
    }
   ],
   "source": [
    "data.shape"
   ]
  },
  {
   "cell_type": "code",
   "execution_count": 68,
   "metadata": {
    "ExecuteTime": {
     "end_time": "2020-03-31T20:07:49.895556Z",
     "start_time": "2020-03-31T20:07:49.886099Z"
    }
   },
   "outputs": [
    {
     "data": {
      "text/html": [
       "<div>\n",
       "<style scoped>\n",
       "    .dataframe tbody tr th:only-of-type {\n",
       "        vertical-align: middle;\n",
       "    }\n",
       "\n",
       "    .dataframe tbody tr th {\n",
       "        vertical-align: top;\n",
       "    }\n",
       "\n",
       "    .dataframe thead th {\n",
       "        text-align: right;\n",
       "    }\n",
       "</style>\n",
       "<table border=\"1\" class=\"dataframe\">\n",
       "  <thead>\n",
       "    <tr style=\"text-align: right;\">\n",
       "      <th></th>\n",
       "      <th>Unnamed: 0</th>\n",
       "      <th>text</th>\n",
       "      <th>emotions</th>\n",
       "    </tr>\n",
       "  </thead>\n",
       "  <tbody>\n",
       "    <tr>\n",
       "      <th>0</th>\n",
       "      <td>27383</td>\n",
       "      <td>i feel awful about it too because it s my job ...</td>\n",
       "      <td>sadness</td>\n",
       "    </tr>\n",
       "    <tr>\n",
       "      <th>1</th>\n",
       "      <td>110083</td>\n",
       "      <td>im alone i feel awful</td>\n",
       "      <td>sadness</td>\n",
       "    </tr>\n",
       "    <tr>\n",
       "      <th>2</th>\n",
       "      <td>140764</td>\n",
       "      <td>ive probably mentioned this before but i reall...</td>\n",
       "      <td>joy</td>\n",
       "    </tr>\n",
       "    <tr>\n",
       "      <th>3</th>\n",
       "      <td>100071</td>\n",
       "      <td>i was feeling a little low few days back</td>\n",
       "      <td>sadness</td>\n",
       "    </tr>\n",
       "    <tr>\n",
       "      <th>4</th>\n",
       "      <td>2837</td>\n",
       "      <td>i beleive that i am much more sensitive to oth...</td>\n",
       "      <td>love</td>\n",
       "    </tr>\n",
       "  </tbody>\n",
       "</table>\n",
       "</div>"
      ],
      "text/plain": [
       "   Unnamed: 0                                               text emotions\n",
       "0       27383  i feel awful about it too because it s my job ...  sadness\n",
       "1      110083                              im alone i feel awful  sadness\n",
       "2      140764  ive probably mentioned this before but i reall...      joy\n",
       "3      100071           i was feeling a little low few days back  sadness\n",
       "4        2837  i beleive that i am much more sensitive to oth...     love"
      ]
     },
     "execution_count": 68,
     "metadata": {},
     "output_type": "execute_result"
    }
   ],
   "source": [
    "data.head()"
   ]
  },
  {
   "cell_type": "code",
   "execution_count": 69,
   "metadata": {
    "ExecuteTime": {
     "end_time": "2020-03-31T20:08:13.698463Z",
     "start_time": "2020-03-31T20:08:13.676630Z"
    }
   },
   "outputs": [],
   "source": [
    "data.drop(['Unnamed: 0'], inplace=True, axis=1)"
   ]
  },
  {
   "cell_type": "code",
   "execution_count": 70,
   "metadata": {
    "ExecuteTime": {
     "end_time": "2020-03-31T20:08:17.958578Z",
     "start_time": "2020-03-31T20:08:17.950385Z"
    }
   },
   "outputs": [
    {
     "data": {
      "text/html": [
       "<div>\n",
       "<style scoped>\n",
       "    .dataframe tbody tr th:only-of-type {\n",
       "        vertical-align: middle;\n",
       "    }\n",
       "\n",
       "    .dataframe tbody tr th {\n",
       "        vertical-align: top;\n",
       "    }\n",
       "\n",
       "    .dataframe thead th {\n",
       "        text-align: right;\n",
       "    }\n",
       "</style>\n",
       "<table border=\"1\" class=\"dataframe\">\n",
       "  <thead>\n",
       "    <tr style=\"text-align: right;\">\n",
       "      <th></th>\n",
       "      <th>text</th>\n",
       "      <th>emotions</th>\n",
       "    </tr>\n",
       "  </thead>\n",
       "  <tbody>\n",
       "    <tr>\n",
       "      <th>0</th>\n",
       "      <td>i feel awful about it too because it s my job ...</td>\n",
       "      <td>sadness</td>\n",
       "    </tr>\n",
       "    <tr>\n",
       "      <th>1</th>\n",
       "      <td>im alone i feel awful</td>\n",
       "      <td>sadness</td>\n",
       "    </tr>\n",
       "    <tr>\n",
       "      <th>2</th>\n",
       "      <td>ive probably mentioned this before but i reall...</td>\n",
       "      <td>joy</td>\n",
       "    </tr>\n",
       "    <tr>\n",
       "      <th>3</th>\n",
       "      <td>i was feeling a little low few days back</td>\n",
       "      <td>sadness</td>\n",
       "    </tr>\n",
       "    <tr>\n",
       "      <th>4</th>\n",
       "      <td>i beleive that i am much more sensitive to oth...</td>\n",
       "      <td>love</td>\n",
       "    </tr>\n",
       "  </tbody>\n",
       "</table>\n",
       "</div>"
      ],
      "text/plain": [
       "                                                text emotions\n",
       "0  i feel awful about it too because it s my job ...  sadness\n",
       "1                              im alone i feel awful  sadness\n",
       "2  ive probably mentioned this before but i reall...      joy\n",
       "3           i was feeling a little low few days back  sadness\n",
       "4  i beleive that i am much more sensitive to oth...     love"
      ]
     },
     "execution_count": 70,
     "metadata": {},
     "output_type": "execute_result"
    }
   ],
   "source": [
    "data.head()"
   ]
  },
  {
   "cell_type": "code",
   "execution_count": 71,
   "metadata": {
    "ExecuteTime": {
     "end_time": "2020-03-31T20:08:44.619412Z",
     "start_time": "2020-03-31T20:08:43.140441Z"
    }
   },
   "outputs": [],
   "source": [
    "data.to_csv('data/raw/kaggle_emotion_data.csv', index=None)"
   ]
  },
  {
   "cell_type": "code",
   "execution_count": null,
   "metadata": {},
   "outputs": [],
   "source": []
  }
 ],
 "metadata": {
  "kernelspec": {
   "display_name": "Python 3",
   "language": "python",
   "name": "python3"
  },
  "language_info": {
   "codemirror_mode": {
    "name": "ipython",
    "version": 3
   },
   "file_extension": ".py",
   "mimetype": "text/x-python",
   "name": "python",
   "nbconvert_exporter": "python",
   "pygments_lexer": "ipython3",
   "version": "3.6.7"
  },
  "toc": {
   "base_numbering": 1,
   "nav_menu": {},
   "number_sections": true,
   "sideBar": true,
   "skip_h1_title": false,
   "title_cell": "Table of Contents",
   "title_sidebar": "Contents",
   "toc_cell": false,
   "toc_position": {},
   "toc_section_display": true,
   "toc_window_display": false
  }
 },
 "nbformat": 4,
 "nbformat_minor": 2
}
