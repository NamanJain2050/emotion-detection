{
 "cells": [
  {
   "cell_type": "markdown",
   "metadata": {},
   "source": [
    "We've two datasets from two different sources to clean"
   ]
  },
  {
   "cell_type": "code",
   "execution_count": 37,
   "metadata": {
    "ExecuteTime": {
     "end_time": "2020-04-01T07:26:58.873126Z",
     "start_time": "2020-04-01T07:26:58.867901Z"
    }
   },
   "outputs": [],
   "source": [
    "import pandas as pd\n",
    "import seaborn as sns\n",
    "import matplotlib.pyplot as plt\n",
    "import numpy as np\n",
    "import re\n",
    "\n",
    "%matplotlib inline"
   ]
  },
  {
   "cell_type": "markdown",
   "metadata": {},
   "source": [
    "# Dataset - I"
   ]
  },
  {
   "cell_type": "code",
   "execution_count": 57,
   "metadata": {
    "ExecuteTime": {
     "end_time": "2020-04-01T07:45:27.328563Z",
     "start_time": "2020-04-01T07:45:27.313934Z"
    }
   },
   "outputs": [],
   "source": [
    "train_data = pd.read_csv('data/raw/train.csv')\n",
    "test_data = pd.read_csv('data/raw/test.csv')"
   ]
  },
  {
   "cell_type": "code",
   "execution_count": 58,
   "metadata": {
    "ExecuteTime": {
     "end_time": "2020-04-01T07:45:27.586055Z",
     "start_time": "2020-04-01T07:45:27.581039Z"
    }
   },
   "outputs": [
    {
     "data": {
      "text/plain": [
       "(1790, 2)"
      ]
     },
     "execution_count": 58,
     "metadata": {},
     "output_type": "execute_result"
    }
   ],
   "source": [
    "train_data.shape"
   ]
  },
  {
   "cell_type": "code",
   "execution_count": 59,
   "metadata": {
    "ExecuteTime": {
     "end_time": "2020-04-01T07:45:28.040987Z",
     "start_time": "2020-04-01T07:45:28.031693Z"
    }
   },
   "outputs": [
    {
     "data": {
      "text/html": [
       "<div>\n",
       "<style scoped>\n",
       "    .dataframe tbody tr th:only-of-type {\n",
       "        vertical-align: middle;\n",
       "    }\n",
       "\n",
       "    .dataframe tbody tr th {\n",
       "        vertical-align: top;\n",
       "    }\n",
       "\n",
       "    .dataframe thead th {\n",
       "        text-align: right;\n",
       "    }\n",
       "</style>\n",
       "<table border=\"1\" class=\"dataframe\">\n",
       "  <thead>\n",
       "    <tr style=\"text-align: right;\">\n",
       "      <th></th>\n",
       "      <th>text</th>\n",
       "      <th>label</th>\n",
       "    </tr>\n",
       "  </thead>\n",
       "  <tbody>\n",
       "    <tr>\n",
       "      <th>0</th>\n",
       "      <td>that Rutgers game was an abomination. An affro...</td>\n",
       "      <td>anger</td>\n",
       "    </tr>\n",
       "    <tr>\n",
       "      <th>1</th>\n",
       "      <td>I get mad over something so minuscule I try to...</td>\n",
       "      <td>anger</td>\n",
       "    </tr>\n",
       "    <tr>\n",
       "      <th>2</th>\n",
       "      <td>I get mad over something so minuscule I try to...</td>\n",
       "      <td>anger</td>\n",
       "    </tr>\n",
       "    <tr>\n",
       "      <th>3</th>\n",
       "      <td>eyes have been dilated. I hate the world right...</td>\n",
       "      <td>anger</td>\n",
       "    </tr>\n",
       "    <tr>\n",
       "      <th>4</th>\n",
       "      <td>One chosen by the CLP members! MP seats are no...</td>\n",
       "      <td>anger</td>\n",
       "    </tr>\n",
       "  </tbody>\n",
       "</table>\n",
       "</div>"
      ],
      "text/plain": [
       "                                                text  label\n",
       "0  that Rutgers game was an abomination. An affro...  anger\n",
       "1  I get mad over something so minuscule I try to...  anger\n",
       "2  I get mad over something so minuscule I try to...  anger\n",
       "3  eyes have been dilated. I hate the world right...  anger\n",
       "4  One chosen by the CLP members! MP seats are no...  anger"
      ]
     },
     "execution_count": 59,
     "metadata": {},
     "output_type": "execute_result"
    }
   ],
   "source": [
    "train_data.head()"
   ]
  },
  {
   "cell_type": "markdown",
   "metadata": {},
   "source": [
    "## Data cleaning"
   ]
  },
  {
   "cell_type": "code",
   "execution_count": 60,
   "metadata": {
    "ExecuteTime": {
     "end_time": "2020-04-01T07:45:28.693924Z",
     "start_time": "2020-04-01T07:45:28.690807Z"
    }
   },
   "outputs": [],
   "source": [
    "from emo_unicode import EMOTICONS"
   ]
  },
  {
   "cell_type": "code",
   "execution_count": 61,
   "metadata": {
    "ExecuteTime": {
     "end_time": "2020-04-01T07:45:29.022204Z",
     "start_time": "2020-04-01T07:45:29.009198Z"
    }
   },
   "outputs": [],
   "source": [
    "def removeLinks(text):\n",
    "    text = re.sub(r'http\\S+', '', text, flags=re.MULTILINE)\n",
    "    return text\n",
    "\n",
    "def removeHTMLTags(text):\n",
    "    text = re.sub(r'<.*?>', '', text, flags=re.MULTILINE)\n",
    "    return text\n",
    "\n",
    "def convertToLowerCase(text):\n",
    "    return text.lower()\n",
    "\n",
    "def removeWordsWithNumbers(text):\n",
    "    return re.sub(r'\\S*\\d\\S*', '', text).strip()\n",
    "\n",
    "def removePuctuations(text):\n",
    "    return re.sub(r'[^A-Za-z0-9]+', ' ', text)\n",
    "\n",
    "def removeWhiteSpaces(text):\n",
    "    return text.strip()\n",
    "\n",
    "def decontracted(phrase):\n",
    "    \n",
    "    # specific\n",
    "    phrase = re.sub(r\"won\\'t\", \"will not\", phrase)\n",
    "    phrase = re.sub(r\"can\\'t\", \"can not\", phrase)\n",
    "\n",
    "    # general\n",
    "    phrase = re.sub(r\"n\\'t\", \" not\", phrase)\n",
    "    phrase = re.sub(r\"\\'re\", \" are\", phrase)\n",
    "    phrase = re.sub(r\"\\'s\", \" is\", phrase)\n",
    "    phrase = re.sub(r\"\\'d\", \" would\", phrase)\n",
    "    phrase = re.sub(r\"\\'ll\", \" will\", phrase)\n",
    "    phrase = re.sub(r\"\\'t\", \" not\", phrase)\n",
    "    phrase = re.sub(r\"\\'ve\", \" have\", phrase)\n",
    "    phrase = re.sub(r\"\\'m\", \" am\", phrase)\n",
    "    return phrase\n",
    "\n",
    "\n",
    "def remove_emoji(string):\n",
    "    emoji_pattern = re.compile(\"[\"\n",
    "                           u\"\\U0001F600-\\U0001F64F\"  # emoticons\n",
    "                           u\"\\U0001F300-\\U0001F5FF\"  # symbols & pictographs\n",
    "                           u\"\\U0001F680-\\U0001F6FF\"  # transport & map symbols\n",
    "                           u\"\\U0001F1E0-\\U0001F1FF\"  # flags (iOS)\n",
    "                           u\"\\U00002702-\\U000027B0\"\n",
    "                           u\"\\U000024C2-\\U0001F251\"\n",
    "                           \"]+\", flags=re.UNICODE)\n",
    "    return emoji_pattern.sub(r'', string)\n",
    "\n",
    "def remove_emoticons(text):\n",
    "    emoticon_pattern = re.compile(u'(' + u'|'.join(k for k in EMOTICONS) + u')')\n",
    "    return emoticon_pattern.sub(r'', text)"
   ]
  },
  {
   "cell_type": "code",
   "execution_count": 62,
   "metadata": {
    "ExecuteTime": {
     "end_time": "2020-04-01T07:45:29.405266Z",
     "start_time": "2020-04-01T07:45:29.400212Z"
    }
   },
   "outputs": [],
   "source": [
    "def clean_data(text):\n",
    "    \n",
    "    text = str(text)\n",
    "    text = removeLinks(text)\n",
    "    text = removeHTMLTags(text)\n",
    "    text = convertToLowerCase(text)\n",
    "    text = removeWordsWithNumbers(text)\n",
    "    text = removeWhiteSpaces(text)\n",
    "    text = decontracted(text)\n",
    "    text = removePuctuations(text)\n",
    "    text = remove_emoji(text)\n",
    "    text = remove_emoticons(text)\n",
    "    text = text.strip()\n",
    "    \n",
    "    return text"
   ]
  },
  {
   "cell_type": "code",
   "execution_count": 63,
   "metadata": {
    "ExecuteTime": {
     "end_time": "2020-04-01T07:45:30.070430Z",
     "start_time": "2020-04-01T07:45:30.062588Z"
    }
   },
   "outputs": [
    {
     "data": {
      "text/plain": [
       "(1790, 2)"
      ]
     },
     "execution_count": 63,
     "metadata": {},
     "output_type": "execute_result"
    }
   ],
   "source": [
    "cleaned_train_data = train_data.dropna(how='any', axis=0)\n",
    "cleaned_train_data.shape"
   ]
  },
  {
   "cell_type": "code",
   "execution_count": 64,
   "metadata": {
    "ExecuteTime": {
     "end_time": "2020-04-01T07:45:35.336125Z",
     "start_time": "2020-04-01T07:45:35.072083Z"
    }
   },
   "outputs": [],
   "source": [
    "cleaned_train_data['text'] = cleaned_train_data['text'].apply(clean_data)"
   ]
  },
  {
   "cell_type": "code",
   "execution_count": 65,
   "metadata": {
    "ExecuteTime": {
     "end_time": "2020-04-01T07:45:36.095563Z",
     "start_time": "2020-04-01T07:45:36.090806Z"
    }
   },
   "outputs": [
    {
     "data": {
      "text/plain": [
       "(1790, 2)"
      ]
     },
     "execution_count": 65,
     "metadata": {},
     "output_type": "execute_result"
    }
   ],
   "source": [
    "cleaned_train_data.shape"
   ]
  },
  {
   "cell_type": "code",
   "execution_count": 66,
   "metadata": {
    "ExecuteTime": {
     "end_time": "2020-04-01T07:45:39.088515Z",
     "start_time": "2020-04-01T07:45:39.083404Z"
    }
   },
   "outputs": [
    {
     "data": {
      "text/plain": [
       "'that Rutgers game was an abomination. An affront to God and man. We must never speak of it again.'"
      ]
     },
     "execution_count": 66,
     "metadata": {},
     "output_type": "execute_result"
    }
   ],
   "source": [
    "train_data['text'].iloc[0]"
   ]
  },
  {
   "cell_type": "code",
   "execution_count": 67,
   "metadata": {
    "ExecuteTime": {
     "end_time": "2020-04-01T07:45:42.409291Z",
     "start_time": "2020-04-01T07:45:42.404530Z"
    }
   },
   "outputs": [
    {
     "data": {
      "text/plain": [
       "'that rutgers game was an abomination an affront to god and man we must never speak of it again'"
      ]
     },
     "execution_count": 67,
     "metadata": {},
     "output_type": "execute_result"
    }
   ],
   "source": [
    "cleaned_train_data['text'].iloc[0]"
   ]
  },
  {
   "cell_type": "code",
   "execution_count": 68,
   "metadata": {
    "ExecuteTime": {
     "end_time": "2020-04-01T07:45:46.130352Z",
     "start_time": "2020-04-01T07:45:45.920229Z"
    }
   },
   "outputs": [
    {
     "name": "stderr",
     "output_type": "stream",
     "text": [
      "/Library/Frameworks/Python.framework/Versions/3.6/lib/python3.6/site-packages/ipykernel_launcher.py:2: SettingWithCopyWarning: \n",
      "A value is trying to be set on a copy of a slice from a DataFrame.\n",
      "Try using .loc[row_indexer,col_indexer] = value instead\n",
      "\n",
      "See the caveats in the documentation: https://pandas.pydata.org/pandas-docs/stable/user_guide/indexing.html#returning-a-view-versus-a-copy\n",
      "  \n"
     ]
    }
   ],
   "source": [
    "cleaned_test_data = test_data.dropna(how='any', axis=0)\n",
    "cleaned_test_data['text'] = cleaned_test_data['text'].apply(clean_data)"
   ]
  },
  {
   "cell_type": "code",
   "execution_count": 69,
   "metadata": {
    "ExecuteTime": {
     "end_time": "2020-04-01T07:45:48.438208Z",
     "start_time": "2020-04-01T07:45:48.433121Z"
    }
   },
   "outputs": [
    {
     "data": {
      "text/plain": [
       "'afraid of the quiet ones they are the ones who actually think'"
      ]
     },
     "execution_count": 69,
     "metadata": {},
     "output_type": "execute_result"
    }
   ],
   "source": [
    "cleaned_test_data['text'].iloc[0]"
   ]
  },
  {
   "cell_type": "markdown",
   "metadata": {},
   "source": [
    "## EDA"
   ]
  },
  {
   "cell_type": "code",
   "execution_count": 70,
   "metadata": {
    "ExecuteTime": {
     "end_time": "2020-04-01T07:45:49.307289Z",
     "start_time": "2020-04-01T07:45:49.301110Z"
    }
   },
   "outputs": [
    {
     "data": {
      "text/plain": [
       "fear       569\n",
       "joy        416\n",
       "anger      409\n",
       "sadness    396\n",
       "Name: label, dtype: int64"
      ]
     },
     "execution_count": 70,
     "metadata": {},
     "output_type": "execute_result"
    }
   ],
   "source": [
    "cleaned_train_data['label'].value_counts()"
   ]
  },
  {
   "cell_type": "code",
   "execution_count": 71,
   "metadata": {
    "ExecuteTime": {
     "end_time": "2020-04-01T07:45:49.927878Z",
     "start_time": "2020-04-01T07:45:49.722874Z"
    }
   },
   "outputs": [
    {
     "data": {
      "text/plain": [
       "<matplotlib.axes._subplots.AxesSubplot at 0x130cec198>"
      ]
     },
     "execution_count": 71,
     "metadata": {},
     "output_type": "execute_result"
    },
    {
     "data": {
      "image/png": "[encoded data removed]",
      "text/plain": [
       "<Figure size 432x288 with 1 Axes>"
      ]
     },
     "metadata": {
      "needs_background": "light"
     },
     "output_type": "display_data"
    }
   ],
   "source": [
    "sns.countplot(x='label', data=cleaned_train_data)"
   ]
  },
  {
   "cell_type": "code",
   "execution_count": 72,
   "metadata": {
    "ExecuteTime": {
     "end_time": "2020-04-01T07:45:50.144939Z",
     "start_time": "2020-04-01T07:45:50.136107Z"
    }
   },
   "outputs": [
    {
     "data": {
      "text/plain": [
       "fear       471\n",
       "joy        356\n",
       "anger      348\n",
       "sadness    327\n",
       "Name: label, dtype: int64"
      ]
     },
     "execution_count": 72,
     "metadata": {},
     "output_type": "execute_result"
    }
   ],
   "source": [
    "cleaned_test_data['label'].value_counts()"
   ]
  },
  {
   "cell_type": "code",
   "execution_count": 73,
   "metadata": {
    "ExecuteTime": {
     "end_time": "2020-04-01T07:45:51.422991Z",
     "start_time": "2020-04-01T07:45:51.021371Z"
    }
   },
   "outputs": [
    {
     "data": {
      "text/plain": [
       "<matplotlib.legend.Legend at 0x12fa06f98>"
      ]
     },
     "execution_count": 73,
     "metadata": {},
     "output_type": "execute_result"
    },
    {
     "data": {
      "image/png": "[encoded data removed]",
      "text/plain": [
       "<Figure size 432x288 with 1 Axes>"
      ]
     },
     "metadata": {
      "needs_background": "light"
     },
     "output_type": "display_data"
    }
   ],
   "source": [
    "cleaned_train_data.loc[cleaned_train_data['label'] == 'anger', 'text'].str.len().hist(label='anger', alpha=.5)\n",
    "cleaned_train_data.loc[cleaned_train_data['label'] == 'sadness', 'text'].str.len().hist(label='sad', alpha=.5)\n",
    "cleaned_train_data.loc[cleaned_train_data['label'] == 'fear', 'text'].str.len().hist(label='fear', alpha=.5)\n",
    "cleaned_train_data.loc[cleaned_train_data['label'] == 'joy', 'text'].str.len().hist(label='joy', alpha=.5)\n",
    "plt.legend()"
   ]
  },
  {
   "cell_type": "code",
   "execution_count": 74,
   "metadata": {
    "ExecuteTime": {
     "end_time": "2020-04-01T07:45:51.509592Z",
     "start_time": "2020-04-01T07:45:51.489440Z"
    }
   },
   "outputs": [],
   "source": [
    "cleaned_train_data.to_csv('data/clean/clean_train.csv', index=None)\n",
    "cleaned_test_data.to_csv('data/clean/clean_test.csv', index=None)"
   ]
  },
  {
   "cell_type": "markdown",
   "metadata": {},
   "source": [
    "# Dataset - II"
   ]
  },
  {
   "cell_type": "code",
   "execution_count": 26,
   "metadata": {
    "ExecuteTime": {
     "end_time": "2020-04-01T07:22:39.447149Z",
     "start_time": "2020-04-01T07:22:38.758060Z"
    }
   },
   "outputs": [],
   "source": [
    "data = pd.read_csv('data/raw/kaggle_emotion_data.csv')"
   ]
  },
  {
   "cell_type": "code",
   "execution_count": 27,
   "metadata": {
    "ExecuteTime": {
     "end_time": "2020-04-01T07:22:45.421266Z",
     "start_time": "2020-04-01T07:22:45.416304Z"
    }
   },
   "outputs": [
    {
     "data": {
      "text/plain": [
       "(416809, 2)"
      ]
     },
     "execution_count": 27,
     "metadata": {},
     "output_type": "execute_result"
    }
   ],
   "source": [
    "data.shape"
   ]
  },
  {
   "cell_type": "code",
   "execution_count": 28,
   "metadata": {
    "ExecuteTime": {
     "end_time": "2020-04-01T07:23:08.795848Z",
     "start_time": "2020-04-01T07:23:08.785858Z"
    }
   },
   "outputs": [
    {
     "data": {
      "text/html": [
       "<div>\n",
       "<style scoped>\n",
       "    .dataframe tbody tr th:only-of-type {\n",
       "        vertical-align: middle;\n",
       "    }\n",
       "\n",
       "    .dataframe tbody tr th {\n",
       "        vertical-align: top;\n",
       "    }\n",
       "\n",
       "    .dataframe thead th {\n",
       "        text-align: right;\n",
       "    }\n",
       "</style>\n",
       "<table border=\"1\" class=\"dataframe\">\n",
       "  <thead>\n",
       "    <tr style=\"text-align: right;\">\n",
       "      <th></th>\n",
       "      <th>text</th>\n",
       "      <th>emotions</th>\n",
       "    </tr>\n",
       "  </thead>\n",
       "  <tbody>\n",
       "    <tr>\n",
       "      <th>0</th>\n",
       "      <td>i feel awful about it too because it s my job ...</td>\n",
       "      <td>sadness</td>\n",
       "    </tr>\n",
       "    <tr>\n",
       "      <th>1</th>\n",
       "      <td>im alone i feel awful</td>\n",
       "      <td>sadness</td>\n",
       "    </tr>\n",
       "    <tr>\n",
       "      <th>2</th>\n",
       "      <td>ive probably mentioned this before but i reall...</td>\n",
       "      <td>joy</td>\n",
       "    </tr>\n",
       "    <tr>\n",
       "      <th>3</th>\n",
       "      <td>i was feeling a little low few days back</td>\n",
       "      <td>sadness</td>\n",
       "    </tr>\n",
       "    <tr>\n",
       "      <th>4</th>\n",
       "      <td>i beleive that i am much more sensitive to oth...</td>\n",
       "      <td>love</td>\n",
       "    </tr>\n",
       "  </tbody>\n",
       "</table>\n",
       "</div>"
      ],
      "text/plain": [
       "                                                text emotions\n",
       "0  i feel awful about it too because it s my job ...  sadness\n",
       "1                              im alone i feel awful  sadness\n",
       "2  ive probably mentioned this before but i reall...      joy\n",
       "3           i was feeling a little low few days back  sadness\n",
       "4  i beleive that i am much more sensitive to oth...     love"
      ]
     },
     "execution_count": 28,
     "metadata": {},
     "output_type": "execute_result"
    }
   ],
   "source": [
    "data.head()"
   ]
  },
  {
   "cell_type": "markdown",
   "metadata": {},
   "source": [
    "## Data Cleaning"
   ]
  },
  {
   "cell_type": "code",
   "execution_count": 29,
   "metadata": {
    "ExecuteTime": {
     "end_time": "2020-04-01T07:23:37.195439Z",
     "start_time": "2020-04-01T07:23:37.114119Z"
    }
   },
   "outputs": [
    {
     "data": {
      "text/plain": [
       "(416809, 2)"
      ]
     },
     "execution_count": 29,
     "metadata": {},
     "output_type": "execute_result"
    }
   ],
   "source": [
    "cleaned_data = data.dropna(how='any', axis=0)\n",
    "cleaned_data.shape"
   ]
  },
  {
   "cell_type": "code",
   "execution_count": 30,
   "metadata": {
    "ExecuteTime": {
     "end_time": "2020-04-01T07:24:59.449132Z",
     "start_time": "2020-04-01T07:23:51.750579Z"
    }
   },
   "outputs": [],
   "source": [
    "cleaned_data['text'] = cleaned_data['text'].apply(clean_data)"
   ]
  },
  {
   "cell_type": "code",
   "execution_count": 31,
   "metadata": {
    "ExecuteTime": {
     "end_time": "2020-04-01T07:24:59.458567Z",
     "start_time": "2020-04-01T07:24:59.452309Z"
    }
   },
   "outputs": [
    {
     "data": {
      "text/plain": [
       "(416809, 2)"
      ]
     },
     "execution_count": 31,
     "metadata": {},
     "output_type": "execute_result"
    }
   ],
   "source": [
    "cleaned_data.shape"
   ]
  },
  {
   "cell_type": "code",
   "execution_count": 32,
   "metadata": {
    "ExecuteTime": {
     "end_time": "2020-04-01T07:24:59.469955Z",
     "start_time": "2020-04-01T07:24:59.463393Z"
    }
   },
   "outputs": [
    {
     "data": {
      "text/plain": [
       "'i feel awful about it too because it s my job to get him in a position to succeed and it just didn t happen here'"
      ]
     },
     "execution_count": 32,
     "metadata": {},
     "output_type": "execute_result"
    }
   ],
   "source": [
    "data['text'].iloc[0]"
   ]
  },
  {
   "cell_type": "code",
   "execution_count": 33,
   "metadata": {
    "ExecuteTime": {
     "end_time": "2020-04-01T07:24:59.482045Z",
     "start_time": "2020-04-01T07:24:59.474472Z"
    }
   },
   "outputs": [
    {
     "data": {
      "text/plain": [
       "'i feel awful about it too because it s my job to get him in a position to succeed and it just didn t happen here'"
      ]
     },
     "execution_count": 33,
     "metadata": {},
     "output_type": "execute_result"
    }
   ],
   "source": [
    "cleaned_data['text'].iloc[0]"
   ]
  },
  {
   "cell_type": "markdown",
   "metadata": {},
   "source": [
    "## EDA"
   ]
  },
  {
   "cell_type": "code",
   "execution_count": 34,
   "metadata": {
    "ExecuteTime": {
     "end_time": "2020-04-01T07:25:05.110387Z",
     "start_time": "2020-04-01T07:25:05.051745Z"
    }
   },
   "outputs": [
    {
     "data": {
      "text/plain": [
       "joy         141067\n",
       "sadness     121187\n",
       "anger        57317\n",
       "fear         47712\n",
       "love         34554\n",
       "surprise     14972\n",
       "Name: emotions, dtype: int64"
      ]
     },
     "execution_count": 34,
     "metadata": {},
     "output_type": "execute_result"
    }
   ],
   "source": [
    "cleaned_data['emotions'].value_counts()"
   ]
  },
  {
   "cell_type": "code",
   "execution_count": 35,
   "metadata": {
    "ExecuteTime": {
     "end_time": "2020-04-01T07:25:05.573459Z",
     "start_time": "2020-04-01T07:25:05.179173Z"
    }
   },
   "outputs": [
    {
     "data": {
      "text/plain": [
       "<matplotlib.axes._subplots.AxesSubplot at 0x1277247f0>"
      ]
     },
     "execution_count": 35,
     "metadata": {},
     "output_type": "execute_result"
    },
    {
     "data": {
      "image/png": "[encoded data removed]",
      "text/plain": [
       "<Figure size 432x288 with 1 Axes>"
      ]
     },
     "metadata": {
      "needs_background": "light"
     },
     "output_type": "display_data"
    }
   ],
   "source": [
    "sns.countplot(x='emotions', data=cleaned_data)"
   ]
  },
  {
   "cell_type": "code",
   "execution_count": 36,
   "metadata": {
    "ExecuteTime": {
     "end_time": "2020-04-01T07:26:19.439355Z",
     "start_time": "2020-04-01T07:26:18.540255Z"
    }
   },
   "outputs": [
    {
     "data": {
      "text/plain": [
       "<matplotlib.legend.Legend at 0x12c79b828>"
      ]
     },
     "execution_count": 36,
     "metadata": {},
     "output_type": "execute_result"
    },
    {
     "data": {
      "image/png": "[encoded data removed]",
      "text/plain": [
       "<Figure size 432x288 with 1 Axes>"
      ]
     },
     "metadata": {
      "needs_background": "light"
     },
     "output_type": "display_data"
    }
   ],
   "source": [
    "cleaned_data.loc[cleaned_data['emotions'] == 'sadness', 'text'].str.len().hist(label='sadness', alpha=.5)\n",
    "cleaned_data.loc[cleaned_data['emotions'] == 'joy', 'text'].str.len().hist(label='joy', alpha=.5)\n",
    "cleaned_data.loc[cleaned_data['emotions'] == 'love', 'text'].str.len().hist(label='love', alpha=.5)\n",
    "cleaned_data.loc[cleaned_data['emotions'] == 'anger', 'text'].str.len().hist(label='anger', alpha=.5)\n",
    "cleaned_data.loc[cleaned_data['emotions'] == 'fear', 'text'].str.len().hist(label='fear', alpha=.5)\n",
    "cleaned_data.loc[cleaned_data['emotions'] == 'surprise', 'text'].str.len().hist(label='surprise', alpha=.5)\n",
    "plt.legend()"
   ]
  },
  {
   "cell_type": "code",
   "execution_count": 56,
   "metadata": {
    "ExecuteTime": {
     "end_time": "2020-04-01T07:33:13.651973Z",
     "start_time": "2020-04-01T07:33:12.152852Z"
    }
   },
   "outputs": [],
   "source": [
    "cleaned_data.to_csv('data/clean/cleaned_data_kaggle.csv', index=None)"
   ]
  }
 ],
 "metadata": {
  "kernelspec": {
   "display_name": "Python 3",
   "language": "python",
   "name": "python3"
  },
  "language_info": {
   "codemirror_mode": {
    "name": "ipython",
    "version": 3
   },
   "file_extension": ".py",
   "mimetype": "text/x-python",
   "name": "python",
   "nbconvert_exporter": "python",
   "pygments_lexer": "ipython3",
   "version": "3.6.7"
  },
  "toc": {
   "base_numbering": 1,
   "nav_menu": {},
   "number_sections": true,
   "sideBar": true,
   "skip_h1_title": false,
   "title_cell": "Table of Contents",
   "title_sidebar": "Contents",
   "toc_cell": false,
   "toc_position": {},
   "toc_section_display": true,
   "toc_window_display": true
  }
 },
 "nbformat": 4,
 "nbformat_minor": 2
}
