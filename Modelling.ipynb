{
 "cells": [
  {
   "cell_type": "code",
   "execution_count": 52,
   "metadata": {
    "ExecuteTime": {
     "end_time": "2020-04-01T10:37:52.201702Z",
     "start_time": "2020-04-01T10:37:52.009639Z"
    }
   },
   "outputs": [],
   "source": [
    "import pandas as pd\n",
    "import numpy as np\n",
    "from numpy import asarray\n",
    "import seaborn as sns\n",
    "import matplotlib.pyplot as plt\n",
    "\n",
    "from sklearn.model_selection import train_test_split\n",
    "from sklearn.metrics import confusion_matrix\n",
    "\n",
    "import pydotplus as pyd\n",
    "\n",
    "import keras\n",
    "from keras.utils import plot_model\n",
    "from keras.preprocessing.text import Tokenizer\n",
    "from keras.preprocessing.sequence import pad_sequences\n",
    "from keras.models import load_model\n",
    "from keras.utils import to_categorical\n",
    "from keras.models import Model\n",
    "from keras import backend as K\n",
    "from keras.callbacks import ModelCheckpoint, TensorBoard, EarlyStopping, ReduceLROnPlateau\n",
    "from keras import optimizers\n",
    "from keras.layers import Dense, Input, Flatten, Embedding, Conv1D, MaxPooling1D, Dropout, BatchNormalization, Activation, concatenate\n",
    "\n",
    "%matplotlib inline"
   ]
  },
  {
   "cell_type": "markdown",
   "metadata": {},
   "source": [
    "# Dataset - I"
   ]
  },
  {
   "cell_type": "code",
   "execution_count": 53,
   "metadata": {
    "ExecuteTime": {
     "end_time": "2020-04-01T10:37:52.713817Z",
     "start_time": "2020-04-01T10:37:52.564219Z"
    }
   },
   "outputs": [
    {
     "data": {
      "text/html": [
       "<div>\n",
       "<style scoped>\n",
       "    .dataframe tbody tr th:only-of-type {\n",
       "        vertical-align: middle;\n",
       "    }\n",
       "\n",
       "    .dataframe tbody tr th {\n",
       "        vertical-align: top;\n",
       "    }\n",
       "\n",
       "    .dataframe thead th {\n",
       "        text-align: right;\n",
       "    }\n",
       "</style>\n",
       "<table border=\"1\" class=\"dataframe\">\n",
       "  <thead>\n",
       "    <tr style=\"text-align: right;\">\n",
       "      <th></th>\n",
       "      <th>text</th>\n",
       "      <th>label</th>\n",
       "    </tr>\n",
       "  </thead>\n",
       "  <tbody>\n",
       "    <tr>\n",
       "      <th>0</th>\n",
       "      <td>that rutgers game was an abomination an affron...</td>\n",
       "      <td>anger</td>\n",
       "    </tr>\n",
       "    <tr>\n",
       "      <th>1</th>\n",
       "      <td>i get mad over something so minuscule i try to...</td>\n",
       "      <td>anger</td>\n",
       "    </tr>\n",
       "    <tr>\n",
       "      <th>2</th>\n",
       "      <td>i get mad over something so minuscule i try to...</td>\n",
       "      <td>anger</td>\n",
       "    </tr>\n",
       "    <tr>\n",
       "      <th>3</th>\n",
       "      <td>eyes have been dilated i hate the world right ...</td>\n",
       "      <td>anger</td>\n",
       "    </tr>\n",
       "    <tr>\n",
       "      <th>4</th>\n",
       "      <td>one chosen by the clp members mp seats are not...</td>\n",
       "      <td>anger</td>\n",
       "    </tr>\n",
       "  </tbody>\n",
       "</table>\n",
       "</div>"
      ],
      "text/plain": [
       "                                                text  label\n",
       "0  that rutgers game was an abomination an affron...  anger\n",
       "1  i get mad over something so minuscule i try to...  anger\n",
       "2  i get mad over something so minuscule i try to...  anger\n",
       "3  eyes have been dilated i hate the world right ...  anger\n",
       "4  one chosen by the clp members mp seats are not...  anger"
      ]
     },
     "execution_count": 53,
     "metadata": {},
     "output_type": "execute_result"
    }
   ],
   "source": [
    "train_data = pd.read_csv('/kaggle/input/tweets/clean_train.csv')\n",
    "test_data = pd.read_csv('/kaggle/input/tweets/clean_test.csv')\n",
    "train_data.head()"
   ]
  },
  {
   "cell_type": "code",
   "execution_count": 54,
   "metadata": {
    "ExecuteTime": {
     "end_time": "2020-04-01T10:37:53.127568Z",
     "start_time": "2020-04-01T10:37:53.110372Z"
    }
   },
   "outputs": [
    {
     "data": {
      "text/plain": [
       "fear       569\n",
       "joy        416\n",
       "anger      409\n",
       "sadness    396\n",
       "Name: label, dtype: int64"
      ]
     },
     "execution_count": 54,
     "metadata": {},
     "output_type": "execute_result"
    }
   ],
   "source": [
    "train_data['label'].value_counts()"
   ]
  },
  {
   "cell_type": "code",
   "execution_count": 55,
   "metadata": {
    "ExecuteTime": {
     "end_time": "2020-04-01T10:37:53.776585Z",
     "start_time": "2020-04-01T10:37:53.758178Z"
    }
   },
   "outputs": [],
   "source": [
    "train_data['label'] = train_data['label'].apply(lambda x: ['fear', 'joy', 'anger', 'sadness'].index(x))\n",
    "test_data['label'] = test_data['label'].apply(lambda x: ['fear', 'joy', 'anger', 'sadness'].index(x))\n",
    "\n",
    "train_data['text'] = train_data['text'].apply(str)\n",
    "test_data['text'] = test_data['text'].apply(str)"
   ]
  },
  {
   "cell_type": "code",
   "execution_count": 56,
   "metadata": {
    "ExecuteTime": {
     "end_time": "2020-04-01T10:37:54.685825Z",
     "start_time": "2020-04-01T10:37:54.356634Z"
    }
   },
   "outputs": [],
   "source": [
    "X_train = train_data['text'].values\n",
    "X_test = test_data['text'].values\n",
    "\n",
    "y_train = train_data['label'].values\n",
    "y_test = test_data['label'].values\n",
    "\n",
    "X_train, X_cv, y_train, y_cv = train_test_split(X_train, y_train, test_size=0.2, random_state=42, stratify=y_train)"
   ]
  },
  {
   "cell_type": "code",
   "execution_count": 57,
   "metadata": {
    "ExecuteTime": {
     "end_time": "2020-04-01T10:37:54.762251Z",
     "start_time": "2020-04-01T10:37:54.751180Z"
    }
   },
   "outputs": [
    {
     "data": {
      "text/plain": [
       "{0: 455, 1: 333, 2: 327, 3: 317}"
      ]
     },
     "execution_count": 57,
     "metadata": {},
     "output_type": "execute_result"
    }
   ],
   "source": [
    "unique, counts = np.unique(y_train, return_counts=True)\n",
    "dict(zip(unique, counts))"
   ]
  },
  {
   "cell_type": "code",
   "execution_count": 58,
   "metadata": {
    "ExecuteTime": {
     "end_time": "2020-04-01T10:37:55.250528Z",
     "start_time": "2020-04-01T10:37:55.241862Z"
    }
   },
   "outputs": [
    {
     "data": {
      "text/plain": [
       "{0: 471, 1: 356, 2: 348, 3: 327}"
      ]
     },
     "execution_count": 58,
     "metadata": {},
     "output_type": "execute_result"
    }
   ],
   "source": [
    "unique, counts = np.unique(y_test, return_counts=True)\n",
    "dict(zip(unique, counts))"
   ]
  },
  {
   "cell_type": "code",
   "execution_count": 59,
   "metadata": {
    "ExecuteTime": {
     "end_time": "2020-04-01T10:37:55.766941Z",
     "start_time": "2020-04-01T10:37:55.757557Z"
    }
   },
   "outputs": [
    {
     "data": {
      "text/plain": [
       "{0: 114, 1: 83, 2: 82, 3: 79}"
      ]
     },
     "execution_count": 59,
     "metadata": {},
     "output_type": "execute_result"
    }
   ],
   "source": [
    "unique, counts = np.unique(y_cv, return_counts=True)\n",
    "dict(zip(unique, counts))"
   ]
  },
  {
   "cell_type": "code",
   "execution_count": 60,
   "metadata": {
    "ExecuteTime": {
     "end_time": "2020-04-01T10:37:56.621007Z",
     "start_time": "2020-04-01T10:37:56.403467Z"
    }
   },
   "outputs": [
    {
     "name": "stdout",
     "output_type": "stream",
     "text": [
      "4702\n"
     ]
    }
   ],
   "source": [
    "t = Tokenizer()\n",
    "t.fit_on_texts(X_train)\n",
    "vocab_size = len(t.word_index) + 1\n",
    "print(vocab_size)"
   ]
  },
  {
   "cell_type": "code",
   "execution_count": 61,
   "metadata": {
    "ExecuteTime": {
     "end_time": "2020-04-01T10:37:57.544956Z",
     "start_time": "2020-04-01T10:37:56.890472Z"
    }
   },
   "outputs": [],
   "source": [
    "encoded_train = t.texts_to_sequences(X_train)\n",
    "encoded_cv = t.texts_to_sequences(X_cv)\n",
    "encoded_test = t.texts_to_sequences(X_test)"
   ]
  },
  {
   "cell_type": "code",
   "execution_count": 62,
   "metadata": {
    "ExecuteTime": {
     "end_time": "2020-04-01T10:37:57.628263Z",
     "start_time": "2020-04-01T10:37:57.549046Z"
    }
   },
   "outputs": [],
   "source": [
    "max_length = 140\n",
    "padded_train = pad_sequences(encoded_train, maxlen=max_length, padding='post')\n",
    "padded_cv = pad_sequences(encoded_cv, maxlen=max_length, padding='post')\n",
    "padded_test = pad_sequences(encoded_test, maxlen=max_length, padding='post')"
   ]
  },
  {
   "cell_type": "code",
   "execution_count": 63,
   "metadata": {
    "ExecuteTime": {
     "end_time": "2020-04-01T10:37:57.719605Z",
     "start_time": "2020-04-01T10:37:57.712514Z"
    }
   },
   "outputs": [],
   "source": [
    "y_train = to_categorical(y_train, num_classes=4)\n",
    "y_cv = to_categorical(y_cv, num_classes=4)\n",
    "y_test = to_categorical(y_test, num_classes=4)"
   ]
  },
  {
   "cell_type": "code",
   "execution_count": 64,
   "metadata": {
    "ExecuteTime": {
     "end_time": "2020-04-01T08:10:04.703272Z",
     "start_time": "2020-04-01T08:08:29.599824Z"
    }
   },
   "outputs": [
    {
     "name": "stdout",
     "output_type": "stream",
     "text": [
      "Loaded 1193514 word vectors.\n"
     ]
    }
   ],
   "source": [
    "# load the whole embedding into memory\n",
    "embeddings_index = dict()\n",
    "f = open('/kaggle/input/glove-twitter-27b-200d-txt/glove.twitter.27B.200d.txt')\n",
    "for line in f:\n",
    "    values = line.split()\n",
    "    word = values[0]\n",
    "    coefs = asarray(values[1:], dtype='float32')\n",
    "    embeddings_index[word] = coefs\n",
    "\n",
    "f.close()\n",
    "print('Loaded %s word vectors.' % len(embeddings_index))"
   ]
  },
  {
   "cell_type": "code",
   "execution_count": 65,
   "metadata": {
    "ExecuteTime": {
     "end_time": "2020-04-01T10:38:00.863702Z",
     "start_time": "2020-04-01T10:38:00.281324Z"
    }
   },
   "outputs": [
    {
     "data": {
      "text/plain": [
       "(4702, 200)"
      ]
     },
     "execution_count": 65,
     "metadata": {},
     "output_type": "execute_result"
    }
   ],
   "source": [
    "# create a weight matrix for words in training docs\n",
    "embedding_matrix = np.zeros((vocab_size, 200))\n",
    "for word, i in t.word_index.items():\n",
    "    try:\n",
    "        embedding_vector = embeddings_index[word]\n",
    "    except:\n",
    "        embedding_vector = [0]*200\n",
    "    \n",
    "    if embedding_vector is not None:\n",
    "        embedding_matrix[i] = embedding_vector\n",
    "        \n",
    "embedding_matrix.shape"
   ]
  },
  {
   "cell_type": "code",
   "execution_count": 66,
   "metadata": {
    "ExecuteTime": {
     "end_time": "2020-04-01T10:38:01.721434Z",
     "start_time": "2020-04-01T10:38:01.707991Z"
    }
   },
   "outputs": [],
   "source": [
    "def recall_m(y_true, y_pred):\n",
    "        true_positives = K.sum(K.round(K.clip(y_true * y_pred, 0, 1)))\n",
    "        possible_positives = K.sum(K.round(K.clip(y_true, 0, 1)))\n",
    "        recall = true_positives / (possible_positives + K.epsilon())\n",
    "        return recall\n",
    "\n",
    "def precision_m(y_true, y_pred):\n",
    "        true_positives = K.sum(K.round(K.clip(y_true * y_pred, 0, 1)))\n",
    "        predicted_positives = K.sum(K.round(K.clip(y_pred, 0, 1)))\n",
    "        precision = true_positives / (predicted_positives + K.epsilon())\n",
    "        return precision\n",
    "\n",
    "def f1_m(y_true, y_pred):\n",
    "    precision = precision_m(y_true, y_pred)\n",
    "    recall = recall_m(y_true, y_pred)\n",
    "    return 2*((precision*recall)/(precision+recall+K.epsilon()))"
   ]
  },
  {
   "cell_type": "code",
   "execution_count": 67,
   "metadata": {
    "ExecuteTime": {
     "end_time": "2020-04-01T10:38:06.388645Z",
     "start_time": "2020-04-01T10:38:03.688886Z"
    }
   },
   "outputs": [
    {
     "name": "stdout",
     "output_type": "stream",
     "text": [
      "Model: \"model_3\"\n",
      "_________________________________________________________________\n",
      "Layer (type)                 Output Shape              Param #   \n",
      "=================================================================\n",
      "main_input (InputLayer)      (None, 140)               0         \n",
      "_________________________________________________________________\n",
      "embedding_3 (Embedding)      (None, 140, 200)          940400    \n",
      "_________________________________________________________________\n",
      "conv1d_5 (Conv1D)            (None, 138, 50)           30050     \n",
      "_________________________________________________________________\n",
      "max_pooling1d_5 (MaxPooling1 (None, 69, 50)            0         \n",
      "_________________________________________________________________\n",
      "conv1d_6 (Conv1D)            (None, 68, 100)           10100     \n",
      "_________________________________________________________________\n",
      "max_pooling1d_6 (MaxPooling1 (None, 34, 100)           0         \n",
      "_________________________________________________________________\n",
      "flatten_3 (Flatten)          (None, 3400)              0         \n",
      "_________________________________________________________________\n",
      "fully_connected (Dense)      (None, 150)               510150    \n",
      "_________________________________________________________________\n",
      "dense_3 (Dense)              (None, 4)                 604       \n",
      "=================================================================\n",
      "Total params: 1,491,304\n",
      "Trainable params: 550,904\n",
      "Non-trainable params: 940,400\n",
      "_________________________________________________________________\n",
      "None\n"
     ]
    }
   ],
   "source": [
    "input_data = Input(shape=(max_length,), name='main_input')\n",
    "embedding_layer = Embedding(vocab_size, 200, weights=[embedding_matrix], trainable=False)(input_data)\n",
    "conv_1 = Conv1D(filters=50, kernel_size=3, activation='relu')(embedding_layer)\n",
    "max_1 = MaxPooling1D(pool_size=2)(conv_1)\n",
    "conv_2 = Conv1D(filters=100, kernel_size=2, activation='relu')(max_1)\n",
    "max_2 = MaxPooling1D(pool_size=2)(conv_2)\n",
    "flatten = Flatten()(max_2)\n",
    "dense = Dense(150, activation='relu', name='fully_connected')(flatten)\n",
    "out = Dense(4, activation='softmax')(dense)\n",
    "\n",
    "model_01 = Model(inputs=[input_data], outputs=[out])\n",
    "\n",
    "print(model_01.summary())"
   ]
  },
  {
   "cell_type": "code",
   "execution_count": 68,
   "metadata": {
    "ExecuteTime": {
     "end_time": "2020-04-01T10:38:07.146672Z",
     "start_time": "2020-04-01T10:38:06.991706Z"
    }
   },
   "outputs": [
    {
     "data": {
      "image/png": "[encoded data removed]",
      "text/plain": [
       "<IPython.core.display.Image object>"
      ]
     },
     "execution_count": 68,
     "metadata": {},
     "output_type": "execute_result"
    }
   ],
   "source": [
    "keras.utils.vis_utils.pydot = pyd\n",
    "plot_model(model_01, to_file='model_01.png')"
   ]
  },
  {
   "cell_type": "code",
   "execution_count": 69,
   "metadata": {
    "ExecuteTime": {
     "end_time": "2020-04-01T10:38:11.210972Z",
     "start_time": "2020-04-01T10:38:11.204516Z"
    }
   },
   "outputs": [],
   "source": [
    "reduce_lr = ReduceLROnPlateau(monitor='val_f1_m', \n",
    "                              mode = 'max', \n",
    "                              factor=0.5, \n",
    "                              patience=5, \n",
    "                              min_lr=0.0001, \n",
    "                              verbose=10)\n",
    "\n",
    "checkpoint = ModelCheckpoint(\"emotion_model_1_1.h5\", \n",
    "                               monitor=\"val_f1_m\", \n",
    "                               mode=\"max\", \n",
    "                               save_best_only = True, \n",
    "                               verbose=1)\n",
    "\n",
    "earlystop = EarlyStopping(monitor = 'val_f1_m', \n",
    "                            mode=\"max\", \n",
    "                            min_delta = 0, \n",
    "                            patience = 5,\n",
    "                            verbose=1)"
   ]
  },
  {
   "cell_type": "code",
   "execution_count": 70,
   "metadata": {
    "ExecuteTime": {
     "end_time": "2020-04-01T10:39:12.341346Z",
     "start_time": "2020-04-01T10:38:13.075358Z"
    },
    "scrolled": true
   },
   "outputs": [
    {
     "name": "stdout",
     "output_type": "stream",
     "text": [
      "Train on 1432 samples, validate on 358 samples\n",
      "Epoch 1/50\n",
      "1432/1432 [==============================] - 1s 623us/step - loss: 1.3678 - f1_m: 0.0000e+00 - acc: 0.3115 - val_loss: 1.3629 - val_f1_m: 0.0000e+00 - val_acc: 0.3408\n",
      "\n",
      "Epoch 00001: val_f1_m improved from -inf to 0.00000, saving model to emotion_model_1_1.h5\n",
      "Epoch 2/50\n",
      "1432/1432 [==============================] - 1s 378us/step - loss: 1.3232 - f1_m: 0.0000e+00 - acc: 0.3764 - val_loss: 1.3358 - val_f1_m: 0.0000e+00 - val_acc: 0.3715\n",
      "\n",
      "Epoch 00002: val_f1_m did not improve from 0.00000\n",
      "Epoch 3/50\n",
      "1432/1432 [==============================] - 1s 400us/step - loss: 1.2431 - f1_m: 0.0514 - acc: 0.4560 - val_loss: 1.2553 - val_f1_m: 0.0734 - val_acc: 0.4134\n",
      "\n",
      "Epoch 00003: val_f1_m improved from 0.00000 to 0.07341, saving model to emotion_model_1_1.h5\n",
      "Epoch 4/50\n",
      "1432/1432 [==============================] - 0s 341us/step - loss: 1.0944 - f1_m: 0.2387 - acc: 0.5580 - val_loss: 1.1573 - val_f1_m: 0.1599 - val_acc: 0.5028\n",
      "\n",
      "Epoch 00004: val_f1_m improved from 0.07341 to 0.15993, saving model to emotion_model_1_1.h5\n",
      "Epoch 5/50\n",
      "1432/1432 [==============================] - 0s 330us/step - loss: 0.9542 - f1_m: 0.4146 - acc: 0.6327 - val_loss: 1.0771 - val_f1_m: 0.3236 - val_acc: 0.5363\n",
      "\n",
      "Epoch 00005: val_f1_m improved from 0.15993 to 0.32362, saving model to emotion_model_1_1.h5\n",
      "Epoch 6/50\n",
      "1432/1432 [==============================] - 0s 339us/step - loss: 0.8233 - f1_m: 0.5329 - acc: 0.7081 - val_loss: 1.0189 - val_f1_m: 0.3637 - val_acc: 0.5419\n",
      "\n",
      "Epoch 00006: val_f1_m improved from 0.32362 to 0.36368, saving model to emotion_model_1_1.h5\n",
      "Epoch 7/50\n",
      "1432/1432 [==============================] - 0s 333us/step - loss: 0.7138 - f1_m: 0.6542 - acc: 0.7668 - val_loss: 0.9689 - val_f1_m: 0.4583 - val_acc: 0.6006\n",
      "\n",
      "Epoch 00007: val_f1_m improved from 0.36368 to 0.45828, saving model to emotion_model_1_1.h5\n",
      "Epoch 8/50\n",
      "1432/1432 [==============================] - 0s 343us/step - loss: 0.5991 - f1_m: 0.7509 - acc: 0.8198 - val_loss: 0.8956 - val_f1_m: 0.5102 - val_acc: 0.6173\n",
      "\n",
      "Epoch 00008: val_f1_m improved from 0.45828 to 0.51025, saving model to emotion_model_1_1.h5\n",
      "Epoch 9/50\n",
      "1432/1432 [==============================] - 0s 346us/step - loss: 0.5085 - f1_m: 0.8076 - acc: 0.8478 - val_loss: 0.8560 - val_f1_m: 0.5772 - val_acc: 0.6285\n",
      "\n",
      "Epoch 00009: val_f1_m improved from 0.51025 to 0.57718, saving model to emotion_model_1_1.h5\n",
      "Epoch 10/50\n",
      "1432/1432 [==============================] - 0s 348us/step - loss: 0.4220 - f1_m: 0.8627 - acc: 0.8932 - val_loss: 0.8023 - val_f1_m: 0.6001 - val_acc: 0.6620\n",
      "\n",
      "Epoch 00010: val_f1_m improved from 0.57718 to 0.60007, saving model to emotion_model_1_1.h5\n",
      "Epoch 11/50\n",
      "1432/1432 [==============================] - 0s 339us/step - loss: 0.3577 - f1_m: 0.8889 - acc: 0.9078 - val_loss: 0.7636 - val_f1_m: 0.6479 - val_acc: 0.6732\n",
      "\n",
      "Epoch 00011: val_f1_m improved from 0.60007 to 0.64788, saving model to emotion_model_1_1.h5\n",
      "Epoch 12/50\n",
      "1432/1432 [==============================] - 0s 343us/step - loss: 0.2939 - f1_m: 0.9301 - acc: 0.9392 - val_loss: 0.7555 - val_f1_m: 0.6699 - val_acc: 0.7095\n",
      "\n",
      "Epoch 00012: val_f1_m improved from 0.64788 to 0.66989, saving model to emotion_model_1_1.h5\n",
      "Epoch 13/50\n",
      "1432/1432 [==============================] - 0s 331us/step - loss: 0.2553 - f1_m: 0.9387 - acc: 0.9483 - val_loss: 0.7504 - val_f1_m: 0.6846 - val_acc: 0.7095\n",
      "\n",
      "Epoch 00013: val_f1_m improved from 0.66989 to 0.68460, saving model to emotion_model_1_1.h5\n",
      "Epoch 14/50\n",
      "1432/1432 [==============================] - 0s 335us/step - loss: 0.2095 - f1_m: 0.9547 - acc: 0.9581 - val_loss: 0.7085 - val_f1_m: 0.7064 - val_acc: 0.7263\n",
      "\n",
      "Epoch 00014: val_f1_m improved from 0.68460 to 0.70639, saving model to emotion_model_1_1.h5\n",
      "Epoch 15/50\n",
      "1432/1432 [==============================] - 0s 342us/step - loss: 0.1730 - f1_m: 0.9643 - acc: 0.9742 - val_loss: 0.6978 - val_f1_m: 0.7267 - val_acc: 0.7318\n",
      "\n",
      "Epoch 00015: val_f1_m improved from 0.70639 to 0.72667, saving model to emotion_model_1_1.h5\n",
      "Epoch 16/50\n",
      "1432/1432 [==============================] - 0s 333us/step - loss: 0.1462 - f1_m: 0.9720 - acc: 0.9804 - val_loss: 0.6888 - val_f1_m: 0.7322 - val_acc: 0.7346\n",
      "\n",
      "Epoch 00016: val_f1_m improved from 0.72667 to 0.73216, saving model to emotion_model_1_1.h5\n",
      "Epoch 17/50\n",
      "1432/1432 [==============================] - 1s 390us/step - loss: 0.1275 - f1_m: 0.9799 - acc: 0.9839 - val_loss: 0.6855 - val_f1_m: 0.7309 - val_acc: 0.7514\n",
      "\n",
      "Epoch 00017: val_f1_m did not improve from 0.73216\n",
      "Epoch 18/50\n",
      "1432/1432 [==============================] - 0s 334us/step - loss: 0.1084 - f1_m: 0.9819 - acc: 0.9839 - val_loss: 0.6953 - val_f1_m: 0.7371 - val_acc: 0.7430\n",
      "\n",
      "Epoch 00018: val_f1_m improved from 0.73216 to 0.73706, saving model to emotion_model_1_1.h5\n",
      "Epoch 19/50\n",
      "1432/1432 [==============================] - 0s 346us/step - loss: 0.0922 - f1_m: 0.9851 - acc: 0.9895 - val_loss: 0.6997 - val_f1_m: 0.7268 - val_acc: 0.7402\n",
      "\n",
      "Epoch 00019: val_f1_m did not improve from 0.73706\n",
      "Epoch 20/50\n",
      "1432/1432 [==============================] - 0s 337us/step - loss: 0.0830 - f1_m: 0.9851 - acc: 0.9874 - val_loss: 0.6969 - val_f1_m: 0.7355 - val_acc: 0.7514\n",
      "\n",
      "Epoch 00020: val_f1_m did not improve from 0.73706\n",
      "Epoch 21/50\n",
      "1432/1432 [==============================] - 1s 359us/step - loss: 0.0717 - f1_m: 0.9873 - acc: 0.9916 - val_loss: 0.7019 - val_f1_m: 0.7403 - val_acc: 0.7514\n",
      "\n",
      "Epoch 00021: val_f1_m improved from 0.73706 to 0.74034, saving model to emotion_model_1_1.h5\n",
      "Epoch 22/50\n",
      "1432/1432 [==============================] - 1s 392us/step - loss: 0.0678 - f1_m: 0.9874 - acc: 0.9895 - val_loss: 0.6959 - val_f1_m: 0.7501 - val_acc: 0.7514\n",
      "\n",
      "Epoch 00022: val_f1_m improved from 0.74034 to 0.75009, saving model to emotion_model_1_1.h5\n",
      "Epoch 23/50\n",
      "1432/1432 [==============================] - 1s 402us/step - loss: 0.0591 - f1_m: 0.9905 - acc: 0.9930 - val_loss: 0.7018 - val_f1_m: 0.7523 - val_acc: 0.7626\n",
      "\n",
      "Epoch 00023: val_f1_m improved from 0.75009 to 0.75233, saving model to emotion_model_1_1.h5\n",
      "Epoch 24/50\n",
      "1432/1432 [==============================] - 0s 348us/step - loss: 0.0530 - f1_m: 0.9906 - acc: 0.9909 - val_loss: 0.6989 - val_f1_m: 0.7616 - val_acc: 0.7682\n",
      "\n",
      "Epoch 00024: val_f1_m improved from 0.75233 to 0.76160, saving model to emotion_model_1_1.h5\n",
      "Epoch 25/50\n",
      "1432/1432 [==============================] - 0s 335us/step - loss: 0.0495 - f1_m: 0.9902 - acc: 0.9916 - val_loss: 0.7053 - val_f1_m: 0.7537 - val_acc: 0.7654\n",
      "\n",
      "Epoch 00025: val_f1_m did not improve from 0.76160\n",
      "Epoch 26/50\n",
      "1432/1432 [==============================] - 0s 335us/step - loss: 0.0458 - f1_m: 0.9909 - acc: 0.9930 - val_loss: 0.7261 - val_f1_m: 0.7447 - val_acc: 0.7598\n",
      "\n",
      "Epoch 00026: val_f1_m did not improve from 0.76160\n",
      "Epoch 27/50\n",
      "1432/1432 [==============================] - 1s 354us/step - loss: 0.0476 - f1_m: 0.9895 - acc: 0.9909 - val_loss: 0.7870 - val_f1_m: 0.7481 - val_acc: 0.7458\n",
      "\n",
      "Epoch 00027: val_f1_m did not improve from 0.76160\n",
      "Epoch 28/50\n",
      "1432/1432 [==============================] - 0s 340us/step - loss: 0.0421 - f1_m: 0.9920 - acc: 0.9930 - val_loss: 0.7429 - val_f1_m: 0.7487 - val_acc: 0.7598\n",
      "\n",
      "Epoch 00028: val_f1_m did not improve from 0.76160\n",
      "Epoch 29/50\n",
      "1432/1432 [==============================] - 0s 331us/step - loss: 0.0435 - f1_m: 0.9885 - acc: 0.9902 - val_loss: 0.7099 - val_f1_m: 0.7705 - val_acc: 0.7821\n",
      "\n",
      "Epoch 00029: val_f1_m improved from 0.76160 to 0.77050, saving model to emotion_model_1_1.h5\n",
      "Epoch 30/50\n",
      "1432/1432 [==============================] - 0s 345us/step - loss: 0.0390 - f1_m: 0.9895 - acc: 0.9909 - val_loss: 0.7309 - val_f1_m: 0.7565 - val_acc: 0.7654\n",
      "\n",
      "Epoch 00030: val_f1_m did not improve from 0.77050\n",
      "Epoch 31/50\n",
      "1432/1432 [==============================] - 0s 328us/step - loss: 0.0357 - f1_m: 0.9909 - acc: 0.9916 - val_loss: 0.7521 - val_f1_m: 0.7809 - val_acc: 0.7933\n",
      "\n",
      "Epoch 00031: val_f1_m improved from 0.77050 to 0.78090, saving model to emotion_model_1_1.h5\n",
      "Epoch 32/50\n",
      "1432/1432 [==============================] - 0s 340us/step - loss: 0.0348 - f1_m: 0.9931 - acc: 0.9930 - val_loss: 0.7354 - val_f1_m: 0.7651 - val_acc: 0.7737\n",
      "\n",
      "Epoch 00032: val_f1_m did not improve from 0.78090\n",
      "Epoch 33/50\n",
      "1432/1432 [==============================] - 0s 331us/step - loss: 0.0337 - f1_m: 0.9903 - acc: 0.9909 - val_loss: 0.7296 - val_f1_m: 0.7682 - val_acc: 0.7793\n",
      "\n",
      "Epoch 00033: val_f1_m did not improve from 0.78090\n",
      "Epoch 34/50\n",
      "1432/1432 [==============================] - 0s 328us/step - loss: 0.0348 - f1_m: 0.9910 - acc: 0.9909 - val_loss: 0.8318 - val_f1_m: 0.7396 - val_acc: 0.7458\n",
      "\n",
      "Epoch 00034: val_f1_m did not improve from 0.78090\n",
      "Epoch 35/50\n",
      "1432/1432 [==============================] - 0s 348us/step - loss: 0.0348 - f1_m: 0.9910 - acc: 0.9909 - val_loss: 0.7393 - val_f1_m: 0.7869 - val_acc: 0.7933\n",
      "\n",
      "Epoch 00035: val_f1_m improved from 0.78090 to 0.78691, saving model to emotion_model_1_1.h5\n",
      "Epoch 36/50\n",
      "1432/1432 [==============================] - 0s 349us/step - loss: 0.0310 - f1_m: 0.9910 - acc: 0.9916 - val_loss: 0.7604 - val_f1_m: 0.7721 - val_acc: 0.7765\n",
      "\n",
      "Epoch 00036: val_f1_m did not improve from 0.78691\n",
      "Epoch 37/50\n",
      "1432/1432 [==============================] - 0s 335us/step - loss: 0.0313 - f1_m: 0.9927 - acc: 0.9923 - val_loss: 0.7625 - val_f1_m: 0.7635 - val_acc: 0.7682\n",
      "\n",
      "Epoch 00037: val_f1_m did not improve from 0.78691\n",
      "Epoch 38/50\n",
      "1432/1432 [==============================] - 0s 335us/step - loss: 0.0340 - f1_m: 0.9910 - acc: 0.9909 - val_loss: 0.8442 - val_f1_m: 0.7491 - val_acc: 0.7486\n",
      "\n",
      "Epoch 00038: val_f1_m did not improve from 0.78691\n",
      "Epoch 39/50\n",
      "1432/1432 [==============================] - 0s 334us/step - loss: 0.0351 - f1_m: 0.9903 - acc: 0.9902 - val_loss: 0.8363 - val_f1_m: 0.7523 - val_acc: 0.7486\n",
      "\n",
      "Epoch 00039: val_f1_m did not improve from 0.78691\n",
      "Epoch 40/50\n",
      "1432/1432 [==============================] - 0s 342us/step - loss: 0.0287 - f1_m: 0.9910 - acc: 0.9909 - val_loss: 0.7829 - val_f1_m: 0.7658 - val_acc: 0.7682\n",
      "\n",
      "Epoch 00040: val_f1_m did not improve from 0.78691\n",
      "Epoch 00040: early stopping\n"
     ]
    }
   ],
   "source": [
    "c = optimizers.Adam(lr = 0.0001)\n",
    "model_01.compile(optimizer=c, loss='categorical_crossentropy', metrics=[f1_m, 'acc'])\n",
    "\n",
    "h1 = model_01.fit(padded_train, y_train, \n",
    "               batch_size=16, \n",
    "               epochs=50, \n",
    "               verbose=1, callbacks=[checkpoint, earlystop, reduce_lr], \n",
    "                 validation_data=(padded_cv, y_cv))"
   ]
  },
  {
   "cell_type": "code",
   "execution_count": 71,
   "metadata": {
    "ExecuteTime": {
     "end_time": "2020-04-01T10:39:23.446231Z",
     "start_time": "2020-04-01T10:39:16.675894Z"
    }
   },
   "outputs": [],
   "source": [
    "#model_01 = load_model('/output/kaggle/working/emotion_model_1_1.h5', custom_objects={\"f1_m\": f1_m})"
   ]
  },
  {
   "cell_type": "code",
   "execution_count": 72,
   "metadata": {
    "ExecuteTime": {
     "end_time": "2020-04-01T10:39:24.780619Z",
     "start_time": "2020-04-01T10:39:23.449809Z"
    }
   },
   "outputs": [
    {
     "name": "stdout",
     "output_type": "stream",
     "text": [
      "1502/1502 [==============================] - 0s 105us/step\n"
     ]
    },
    {
     "data": {
      "text/plain": [
       "[1.1061681271710504, 0.7055856585502625, 0.706391453742981]"
      ]
     },
     "execution_count": 72,
     "metadata": {},
     "output_type": "execute_result"
    }
   ],
   "source": [
    "score_1 = model_01.evaluate(padded_test, y_test)\n",
    "score_1"
   ]
  },
  {
   "cell_type": "code",
   "execution_count": 73,
   "metadata": {
    "ExecuteTime": {
     "end_time": "2020-04-01T10:39:28.923608Z",
     "start_time": "2020-04-01T10:39:26.987432Z"
    }
   },
   "outputs": [
    {
     "name": "stdout",
     "output_type": "stream",
     "text": [
      "[[343  22  34  72]\n",
      " [ 28 299   3  26]\n",
      " [ 71  15 199  63]\n",
      " [ 75  18  14 220]]\n"
     ]
    },
    {
     "data": {
      "text/plain": [
       "<matplotlib.axes._subplots.AxesSubplot at 0x7fb4c5cc6c50>"
      ]
     },
     "execution_count": 73,
     "metadata": {},
     "output_type": "execute_result"
    },
    {
     "data": {
      "image/png": "[encoded data removed]",
      "text/plain": [
       "<Figure size 432x288 with 2 Axes>"
      ]
     },
     "metadata": {
      "needs_background": "light"
     },
     "output_type": "display_data"
    }
   ],
   "source": [
    "cnf_mat = confusion_matrix(np.argmax(y_test, axis=1), np.argmax(model_01.predict(padded_test), axis=1))\n",
    "\n",
    "print(cnf_mat)\n",
    "sns.heatmap(cnf_mat, annot=True, fmt='g', linewidths=.5, xticklabels=['Predicted 0', 'Predicted 1', 'Predicted 2', 'Predicted 3'], \n",
    "            yticklabels=['Actual 0', 'Actual 1', 'Actual 2', 'Actual 3'])"
   ]
  },
  {
   "cell_type": "code",
   "execution_count": 74,
   "metadata": {
    "ExecuteTime": {
     "end_time": "2020-04-01T10:39:32.101021Z",
     "start_time": "2020-04-01T10:39:31.745333Z"
    }
   },
   "outputs": [
    {
     "data": {
      "image/png": "[encoded data removed]",
      "text/plain": [
       "<Figure size 432x288 with 1 Axes>"
      ]
     },
     "metadata": {
      "needs_background": "light"
     },
     "output_type": "display_data"
    }
   ],
   "source": [
    "plt.plot(h1.history['f1_m'][1:])\n",
    "plt.plot(h1.history['val_f1_m'][1:])\n",
    "plt.title('Model metric')\n",
    "plt.ylabel('F1 metric')\n",
    "plt.xlabel('Epochs')\n",
    "plt.legend(['train','Validation'], loc='upper left')\n",
    "plt.show()"
   ]
  },
  {
   "cell_type": "code",
   "execution_count": 75,
   "metadata": {
    "ExecuteTime": {
     "end_time": "2020-04-01T10:39:33.430598Z",
     "start_time": "2020-04-01T10:39:33.071861Z"
    }
   },
   "outputs": [
    {
     "data": {
      "image/png": "[encoded data removed]",
      "text/plain": [
       "<Figure size 432x288 with 1 Axes>"
      ]
     },
     "metadata": {
      "needs_background": "light"
     },
     "output_type": "display_data"
    }
   ],
   "source": [
    "plt.plot(h1.history['loss'][1:])\n",
    "plt.plot(h1.history['val_loss'][1:])\n",
    "plt.title('Model Loss')\n",
    "plt.ylabel('Loss')\n",
    "plt.xlabel('Epochs')\n",
    "plt.legend(['train','Validation'], loc='upper left')\n",
    "plt.show()"
   ]
  },
  {
   "cell_type": "markdown",
   "metadata": {},
   "source": [
    "# Dataset - II"
   ]
  },
  {
   "cell_type": "code",
   "execution_count": 76,
   "metadata": {
    "ExecuteTime": {
     "end_time": "2020-04-01T10:39:36.797588Z",
     "start_time": "2020-04-01T10:39:35.824019Z"
    }
   },
   "outputs": [
    {
     "data": {
      "text/html": [
       "<div>\n",
       "<style scoped>\n",
       "    .dataframe tbody tr th:only-of-type {\n",
       "        vertical-align: middle;\n",
       "    }\n",
       "\n",
       "    .dataframe tbody tr th {\n",
       "        vertical-align: top;\n",
       "    }\n",
       "\n",
       "    .dataframe thead th {\n",
       "        text-align: right;\n",
       "    }\n",
       "</style>\n",
       "<table border=\"1\" class=\"dataframe\">\n",
       "  <thead>\n",
       "    <tr style=\"text-align: right;\">\n",
       "      <th></th>\n",
       "      <th>text</th>\n",
       "      <th>emotions</th>\n",
       "    </tr>\n",
       "  </thead>\n",
       "  <tbody>\n",
       "    <tr>\n",
       "      <th>0</th>\n",
       "      <td>i feel awful about it too because it s my job ...</td>\n",
       "      <td>sadness</td>\n",
       "    </tr>\n",
       "    <tr>\n",
       "      <th>1</th>\n",
       "      <td>im alone i feel awful</td>\n",
       "      <td>sadness</td>\n",
       "    </tr>\n",
       "    <tr>\n",
       "      <th>2</th>\n",
       "      <td>ive probably mentioned this before but i reall...</td>\n",
       "      <td>joy</td>\n",
       "    </tr>\n",
       "    <tr>\n",
       "      <th>3</th>\n",
       "      <td>i was feeling a little low few days back</td>\n",
       "      <td>sadness</td>\n",
       "    </tr>\n",
       "    <tr>\n",
       "      <th>4</th>\n",
       "      <td>i beleive that i am much more sensitive to oth...</td>\n",
       "      <td>love</td>\n",
       "    </tr>\n",
       "  </tbody>\n",
       "</table>\n",
       "</div>"
      ],
      "text/plain": [
       "                                                text emotions\n",
       "0  i feel awful about it too because it s my job ...  sadness\n",
       "1                              im alone i feel awful  sadness\n",
       "2  ive probably mentioned this before but i reall...      joy\n",
       "3           i was feeling a little low few days back  sadness\n",
       "4  i beleive that i am much more sensitive to oth...     love"
      ]
     },
     "execution_count": 76,
     "metadata": {},
     "output_type": "execute_result"
    }
   ],
   "source": [
    "data = pd.read_csv('/kaggle/input/tweets/cleaned_data_kaggle.csv')\n",
    "data.head()"
   ]
  },
  {
   "cell_type": "code",
   "execution_count": 77,
   "metadata": {
    "ExecuteTime": {
     "end_time": "2020-04-01T10:39:37.688654Z",
     "start_time": "2020-04-01T10:39:37.611058Z"
    }
   },
   "outputs": [
    {
     "data": {
      "text/plain": [
       "joy         141067\n",
       "sadness     121187\n",
       "anger        57317\n",
       "fear         47712\n",
       "love         34554\n",
       "surprise     14972\n",
       "Name: emotions, dtype: int64"
      ]
     },
     "execution_count": 77,
     "metadata": {},
     "output_type": "execute_result"
    }
   ],
   "source": [
    "data['emotions'].value_counts()"
   ]
  },
  {
   "cell_type": "code",
   "execution_count": 78,
   "metadata": {
    "ExecuteTime": {
     "end_time": "2020-04-01T10:39:38.620131Z",
     "start_time": "2020-04-01T10:39:38.052348Z"
    }
   },
   "outputs": [],
   "source": [
    "data['emotions'] = data['emotions'].apply(lambda x: ['joy', 'sadness', 'anger', 'fear', 'love', 'surprise'].index(x))\n",
    "\n",
    "data['text'] = data['text'].apply(str)"
   ]
  },
  {
   "cell_type": "code",
   "execution_count": 79,
   "metadata": {
    "ExecuteTime": {
     "end_time": "2020-04-01T10:39:39.285245Z",
     "start_time": "2020-04-01T10:39:38.630714Z"
    }
   },
   "outputs": [],
   "source": [
    "X_s = data['text'].values\n",
    "y_s = data['emotions'].values\n",
    "\n",
    "X_train, X_test, y_train, y_test = train_test_split(X_s, y_s, test_size=0.2, random_state=42, stratify=y_s)\n",
    "X_train, X_cv, y_train, y_cv = train_test_split(X_train, y_train, test_size=0.2, random_state=42, stratify=y_train)"
   ]
  },
  {
   "cell_type": "code",
   "execution_count": 80,
   "metadata": {
    "ExecuteTime": {
     "end_time": "2020-04-01T10:39:39.318723Z",
     "start_time": "2020-04-01T10:39:39.291598Z"
    }
   },
   "outputs": [
    {
     "data": {
      "text/plain": [
       "{0: 90282, 1: 77559, 2: 36683, 3: 30536, 4: 22114, 5: 9583}"
      ]
     },
     "execution_count": 80,
     "metadata": {},
     "output_type": "execute_result"
    }
   ],
   "source": [
    "unique, counts = np.unique(y_train, return_counts=True)\n",
    "dict(zip(unique, counts))"
   ]
  },
  {
   "cell_type": "code",
   "execution_count": 81,
   "metadata": {
    "ExecuteTime": {
     "end_time": "2020-04-01T10:39:39.700480Z",
     "start_time": "2020-04-01T10:39:39.687711Z"
    }
   },
   "outputs": [
    {
     "data": {
      "text/plain": [
       "{0: 22571, 1: 19390, 2: 9171, 3: 7634, 4: 5529, 5: 2395}"
      ]
     },
     "execution_count": 81,
     "metadata": {},
     "output_type": "execute_result"
    }
   ],
   "source": [
    "unique, counts = np.unique(y_cv, return_counts=True)\n",
    "dict(zip(unique, counts))"
   ]
  },
  {
   "cell_type": "code",
   "execution_count": 82,
   "metadata": {
    "ExecuteTime": {
     "end_time": "2020-04-01T10:39:40.595752Z",
     "start_time": "2020-04-01T10:39:40.582847Z"
    }
   },
   "outputs": [
    {
     "data": {
      "text/plain": [
       "{0: 28214, 1: 24238, 2: 11463, 3: 9542, 4: 6911, 5: 2994}"
      ]
     },
     "execution_count": 82,
     "metadata": {},
     "output_type": "execute_result"
    }
   ],
   "source": [
    "unique, counts = np.unique(y_test, return_counts=True)\n",
    "dict(zip(unique, counts))"
   ]
  },
  {
   "cell_type": "code",
   "execution_count": 83,
   "metadata": {
    "ExecuteTime": {
     "end_time": "2020-04-01T10:39:51.441318Z",
     "start_time": "2020-04-01T10:39:40.989021Z"
    }
   },
   "outputs": [
    {
     "name": "stdout",
     "output_type": "stream",
     "text": [
      "61189\n"
     ]
    }
   ],
   "source": [
    "t = Tokenizer()\n",
    "t.fit_on_texts(X_train)\n",
    "vocab_size = len(t.word_index) + 1\n",
    "print(vocab_size)"
   ]
  },
  {
   "cell_type": "code",
   "execution_count": 84,
   "metadata": {
    "ExecuteTime": {
     "end_time": "2020-04-01T10:40:06.561998Z",
     "start_time": "2020-04-01T10:39:51.444989Z"
    }
   },
   "outputs": [],
   "source": [
    "encoded_train = t.texts_to_sequences(X_train)\n",
    "encoded_cv = t.texts_to_sequences(X_cv)\n",
    "encoded_test = t.texts_to_sequences(X_test)"
   ]
  },
  {
   "cell_type": "code",
   "execution_count": 85,
   "metadata": {
    "ExecuteTime": {
     "end_time": "2020-04-01T10:40:06.808609Z",
     "start_time": "2020-04-01T10:40:06.568432Z"
    }
   },
   "outputs": [
    {
     "name": "stdout",
     "output_type": "stream",
     "text": [
      "830\n"
     ]
    }
   ],
   "source": [
    "maxLen = -1\n",
    "lens = []\n",
    "for x in X_s:\n",
    "    \n",
    "    lens.append(len(x))\n",
    "    if len(x) > maxLen:\n",
    "        maxLen = max(maxLen, len(x))\n",
    "        \n",
    "print(maxLen)"
   ]
  },
  {
   "cell_type": "code",
   "execution_count": 86,
   "metadata": {
    "ExecuteTime": {
     "end_time": "2020-04-01T10:40:06.867027Z",
     "start_time": "2020-04-01T10:40:06.812499Z"
    }
   },
   "outputs": [
    {
     "data": {
      "text/plain": [
       "300.0"
      ]
     },
     "execution_count": 86,
     "metadata": {},
     "output_type": "execute_result"
    }
   ],
   "source": [
    "np.percentile(lens, 99.99)"
   ]
  },
  {
   "cell_type": "code",
   "execution_count": 87,
   "metadata": {
    "ExecuteTime": {
     "end_time": "2020-04-01T10:40:10.172461Z",
     "start_time": "2020-04-01T10:40:06.870600Z"
    }
   },
   "outputs": [],
   "source": [
    "max_length = 300\n",
    "padded_train = pad_sequences(encoded_train, maxlen=max_length, padding='post')\n",
    "padded_cv = pad_sequences(encoded_cv, maxlen=max_length, padding='post')\n",
    "padded_test = pad_sequences(encoded_test, maxlen=max_length, padding='post')"
   ]
  },
  {
   "cell_type": "code",
   "execution_count": 88,
   "metadata": {
    "ExecuteTime": {
     "end_time": "2020-04-01T10:40:10.188431Z",
     "start_time": "2020-04-01T10:40:10.175691Z"
    }
   },
   "outputs": [],
   "source": [
    "y_train = to_categorical(y_train, num_classes=6)\n",
    "y_cv = to_categorical(y_cv, num_classes=6)\n",
    "y_test = to_categorical(y_test, num_classes=6)"
   ]
  },
  {
   "cell_type": "code",
   "execution_count": 89,
   "metadata": {
    "ExecuteTime": {
     "end_time": "2020-04-01T10:40:12.506416Z",
     "start_time": "2020-04-01T10:40:10.191056Z"
    }
   },
   "outputs": [
    {
     "data": {
      "text/plain": [
       "(61189, 200)"
      ]
     },
     "execution_count": 89,
     "metadata": {},
     "output_type": "execute_result"
    }
   ],
   "source": [
    "# create a weight matrix for words in training docs\n",
    "embedding_matrix = np.zeros((vocab_size, 200))\n",
    "for word, i in t.word_index.items():\n",
    "    try:\n",
    "        embedding_vector = embeddings_index[word]\n",
    "    except:\n",
    "        embedding_vector = [0]*200\n",
    "    \n",
    "    if embedding_vector is not None:\n",
    "        embedding_matrix[i] = embedding_vector\n",
    "        \n",
    "embedding_matrix.shape"
   ]
  },
  {
   "cell_type": "code",
   "execution_count": 90,
   "metadata": {
    "ExecuteTime": {
     "end_time": "2020-04-01T10:40:15.970519Z",
     "start_time": "2020-04-01T10:40:12.512493Z"
    }
   },
   "outputs": [
    {
     "name": "stdout",
     "output_type": "stream",
     "text": [
      "Model: \"model_4\"\n",
      "_________________________________________________________________\n",
      "Layer (type)                 Output Shape              Param #   \n",
      "=================================================================\n",
      "main_input (InputLayer)      (None, 300)               0         \n",
      "_________________________________________________________________\n",
      "embedding_4 (Embedding)      (None, 300, 200)          12237800  \n",
      "_________________________________________________________________\n",
      "conv1d_7 (Conv1D)            (None, 298, 50)           30050     \n",
      "_________________________________________________________________\n",
      "max_pooling1d_7 (MaxPooling1 (None, 149, 50)           0         \n",
      "_________________________________________________________________\n",
      "conv1d_8 (Conv1D)            (None, 148, 100)          10100     \n",
      "_________________________________________________________________\n",
      "max_pooling1d_8 (MaxPooling1 (None, 74, 100)           0         \n",
      "_________________________________________________________________\n",
      "flatten_4 (Flatten)          (None, 7400)              0         \n",
      "_________________________________________________________________\n",
      "fully_connected (Dense)      (None, 150)               1110150   \n",
      "_________________________________________________________________\n",
      "dense_4 (Dense)              (None, 6)                 906       \n",
      "=================================================================\n",
      "Total params: 13,389,006\n",
      "Trainable params: 1,151,206\n",
      "Non-trainable params: 12,237,800\n",
      "_________________________________________________________________\n",
      "None\n"
     ]
    }
   ],
   "source": [
    "input_data = Input(shape=(max_length,), name='main_input')\n",
    "embedding_layer = Embedding(vocab_size, 200, weights=[embedding_matrix], trainable=False)(input_data)\n",
    "conv_1 = Conv1D(filters=50, kernel_size=3, activation='relu')(embedding_layer)\n",
    "max_1 = MaxPooling1D(pool_size=2)(conv_1)\n",
    "conv_2 = Conv1D(filters=100, kernel_size=2, activation='relu')(max_1)\n",
    "max_2 = MaxPooling1D(pool_size=2)(conv_2)\n",
    "flatten = Flatten()(max_2)\n",
    "dense = Dense(150, activation='relu', name='fully_connected')(flatten)\n",
    "out = Dense(6, activation='softmax')(dense)\n",
    "\n",
    "model_02 = Model(inputs=[input_data], outputs=[out])\n",
    "\n",
    "print(model_02.summary())"
   ]
  },
  {
   "cell_type": "code",
   "execution_count": 91,
   "metadata": {
    "ExecuteTime": {
     "end_time": "2020-04-01T10:40:36.697644Z",
     "start_time": "2020-04-01T10:40:36.524361Z"
    }
   },
   "outputs": [
    {
     "data": {
      "image/png": "[encoded data removed]",
      "text/plain": [
       "<IPython.core.display.Image object>"
      ]
     },
     "execution_count": 91,
     "metadata": {},
     "output_type": "execute_result"
    }
   ],
   "source": [
    "keras.utils.vis_utils.pydot = pyd\n",
    "plot_model(model_01, to_file='model_02.png')"
   ]
  },
  {
   "cell_type": "code",
   "execution_count": 92,
   "metadata": {
    "ExecuteTime": {
     "end_time": "2020-04-01T10:40:36.714355Z",
     "start_time": "2020-04-01T10:40:36.706602Z"
    }
   },
   "outputs": [],
   "source": [
    "reduce_lr = ReduceLROnPlateau(monitor='val_f1_m', \n",
    "                              mode = 'max', \n",
    "                              factor=0.5, \n",
    "                              patience=5, \n",
    "                              min_lr=0.0001, \n",
    "                              verbose=10)\n",
    "\n",
    "checkpoint = ModelCheckpoint(\"emotion_model_2_1.h5\", \n",
    "                               monitor=\"val_f1_m\", \n",
    "                               mode=\"max\", \n",
    "                               save_best_only = True, \n",
    "                               verbose=1)\n",
    "\n",
    "earlystop = EarlyStopping(monitor = 'val_f1_m', \n",
    "                            mode=\"max\", \n",
    "                            min_delta = 0, \n",
    "                            patience = 5,\n",
    "                            verbose=1)"
   ]
  },
  {
   "cell_type": "code",
   "execution_count": 93,
   "metadata": {
    "ExecuteTime": {
     "end_time": "2020-04-01T10:41:44.404813Z",
     "start_time": "2020-04-01T10:40:41.887370Z"
    }
   },
   "outputs": [
    {
     "name": "stdout",
     "output_type": "stream",
     "text": [
      "Train on 266757 samples, validate on 66690 samples\n",
      "Epoch 1/50\n",
      "266757/266757 [==============================] - 27s 101us/step - loss: 0.7990 - f1_m: 0.6577 - acc: 0.7103 - val_loss: 0.4467 - val_f1_m: 0.8374 - val_acc: 0.8389\n",
      "\n",
      "Epoch 00001: val_f1_m improved from -inf to 0.83743, saving model to emotion_model_2_1.h5\n",
      "Epoch 2/50\n",
      "266757/266757 [==============================] - 28s 103us/step - loss: 0.3452 - f1_m: 0.8721 - acc: 0.8734 - val_loss: 0.2898 - val_f1_m: 0.8894 - val_acc: 0.8897\n",
      "\n",
      "Epoch 00002: val_f1_m improved from 0.83743 to 0.88944, saving model to emotion_model_2_1.h5\n",
      "Epoch 3/50\n",
      "266757/266757 [==============================] - 27s 100us/step - loss: 0.2448 - f1_m: 0.9016 - acc: 0.9012 - val_loss: 0.2300 - val_f1_m: 0.9038 - val_acc: 0.9033\n",
      "\n",
      "Epoch 00003: val_f1_m improved from 0.88944 to 0.90382, saving model to emotion_model_2_1.h5\n",
      "Epoch 4/50\n",
      "266757/266757 [==============================] - 27s 103us/step - loss: 0.1984 - f1_m: 0.9143 - acc: 0.9139 - val_loss: 0.2041 - val_f1_m: 0.9107 - val_acc: 0.9101\n",
      "\n",
      "Epoch 00004: val_f1_m improved from 0.90382 to 0.91069, saving model to emotion_model_2_1.h5\n",
      "Epoch 5/50\n",
      "266757/266757 [==============================] - 27s 100us/step - loss: 0.1717 - f1_m: 0.9212 - acc: 0.9208 - val_loss: 0.1842 - val_f1_m: 0.9132 - val_acc: 0.9128\n",
      "\n",
      "Epoch 00005: val_f1_m improved from 0.91069 to 0.91321, saving model to emotion_model_2_1.h5\n",
      "Epoch 6/50\n",
      "266757/266757 [==============================] - 28s 104us/step - loss: 0.1539 - f1_m: 0.9265 - acc: 0.9262 - val_loss: 0.1732 - val_f1_m: 0.9153 - val_acc: 0.9147\n",
      "\n",
      "Epoch 00006: val_f1_m improved from 0.91321 to 0.91533, saving model to emotion_model_2_1.h5\n",
      "Epoch 7/50\n",
      "266757/266757 [==============================] - 27s 100us/step - loss: 0.1412 - f1_m: 0.9300 - acc: 0.9298 - val_loss: 0.1710 - val_f1_m: 0.9169 - val_acc: 0.9165\n",
      "\n",
      "Epoch 00007: val_f1_m improved from 0.91533 to 0.91685, saving model to emotion_model_2_1.h5\n",
      "Epoch 8/50\n",
      "266757/266757 [==============================] - 28s 103us/step - loss: 0.1316 - f1_m: 0.9324 - acc: 0.9324 - val_loss: 0.1656 - val_f1_m: 0.9171 - val_acc: 0.9165\n",
      "\n",
      "Epoch 00008: val_f1_m improved from 0.91685 to 0.91715, saving model to emotion_model_2_1.h5\n",
      "Epoch 9/50\n",
      "266757/266757 [==============================] - 27s 100us/step - loss: 0.1237 - f1_m: 0.9358 - acc: 0.9355 - val_loss: 0.1604 - val_f1_m: 0.9187 - val_acc: 0.9183\n",
      "\n",
      "Epoch 00009: val_f1_m improved from 0.91715 to 0.91866, saving model to emotion_model_2_1.h5\n",
      "Epoch 10/50\n",
      "266757/266757 [==============================] - 27s 101us/step - loss: 0.1177 - f1_m: 0.9376 - acc: 0.9373 - val_loss: 0.1572 - val_f1_m: 0.9172 - val_acc: 0.9167\n",
      "\n",
      "Epoch 00010: val_f1_m did not improve from 0.91866\n",
      "Epoch 11/50\n",
      "266757/266757 [==============================] - 28s 105us/step - loss: 0.1124 - f1_m: 0.9393 - acc: 0.9393 - val_loss: 0.1618 - val_f1_m: 0.9178 - val_acc: 0.9173\n",
      "\n",
      "Epoch 00011: val_f1_m did not improve from 0.91866\n",
      "Epoch 12/50\n",
      "266757/266757 [==============================] - 27s 102us/step - loss: 0.1079 - f1_m: 0.9409 - acc: 0.9409 - val_loss: 0.1573 - val_f1_m: 0.9154 - val_acc: 0.9150\n",
      "\n",
      "Epoch 00012: val_f1_m did not improve from 0.91866\n",
      "Epoch 13/50\n",
      "266757/266757 [==============================] - 28s 106us/step - loss: 0.1040 - f1_m: 0.9423 - acc: 0.9423 - val_loss: 0.1585 - val_f1_m: 0.9159 - val_acc: 0.9155\n",
      "\n",
      "Epoch 00013: val_f1_m did not improve from 0.91866\n",
      "Epoch 14/50\n",
      "266757/266757 [==============================] - 27s 101us/step - loss: 0.1008 - f1_m: 0.9436 - acc: 0.9437 - val_loss: 0.1576 - val_f1_m: 0.9158 - val_acc: 0.9153\n",
      "\n",
      "Epoch 00014: val_f1_m did not improve from 0.91866\n",
      "Epoch 00014: early stopping\n"
     ]
    }
   ],
   "source": [
    "c = optimizers.Adam(lr = 0.0001)\n",
    "model_02.compile(optimizer=c, loss='categorical_crossentropy', metrics=[f1_m, 'acc'])\n",
    "\n",
    "h2 = model_02.fit(padded_train, y_train, \n",
    "               batch_size=64, \n",
    "               epochs=50, \n",
    "               verbose=1, callbacks=[checkpoint, earlystop, reduce_lr], \n",
    "                 validation_data=(padded_cv, y_cv))"
   ]
  },
  {
   "cell_type": "code",
   "execution_count": 94,
   "metadata": {},
   "outputs": [
    {
     "name": "stdout",
     "output_type": "stream",
     "text": [
      "83362/83362 [==============================] - 8s 91us/step\n"
     ]
    },
    {
     "data": {
      "text/plain": [
       "[0.15805572257759626, 0.915330708026886, 0.9151291847229004]"
      ]
     },
     "execution_count": 94,
     "metadata": {},
     "output_type": "execute_result"
    }
   ],
   "source": [
    "score_2 = model_02.evaluate(padded_test, y_test)\n",
    "score_2"
   ]
  },
  {
   "cell_type": "code",
   "execution_count": 97,
   "metadata": {},
   "outputs": [
    {
     "name": "stdout",
     "output_type": "stream",
     "text": [
      "[[26693   195   123    63   974   166]\n",
      " [  163 23180   445   403    29    18]\n",
      " [   73   452 10519   395    20     4]\n",
      " [   50   256   282  8574    11   369]\n",
      " [ 1650    27    13     3  5216     2]\n",
      " [  235    31     9   606     8  2105]]\n"
     ]
    },
    {
     "data": {
      "text/plain": [
       "<matplotlib.axes._subplots.AxesSubplot at 0x7fb01a2f4dd8>"
      ]
     },
     "execution_count": 97,
     "metadata": {},
     "output_type": "execute_result"
    },
    {
     "data": {
      "image/png": "[encoded data removed]",
      "text/plain": [
       "<Figure size 432x288 with 2 Axes>"
      ]
     },
     "metadata": {
      "needs_background": "light"
     },
     "output_type": "display_data"
    }
   ],
   "source": [
    "cnf_mat = confusion_matrix(np.argmax(y_test, axis=1), np.argmax(model_02.predict(padded_test), axis=1))\n",
    "\n",
    "print(cnf_mat)\n",
    "sns.heatmap(cnf_mat, annot=True, fmt='g', linewidths=.5, xticklabels=['Predicted 0', 'Predicted 1', 'Predicted 2', 'Predicted 3', 'Predicted 4', 'Predicted 5'], \n",
    "            yticklabels=['Actual 0', 'Actual 1', 'Actual 2', 'Actual 3', 'Actual 4', 'Actual 5'])"
   ]
  },
  {
   "cell_type": "code",
   "execution_count": 98,
   "metadata": {},
   "outputs": [
    {
     "data": {
      "image/png": "[encoded data removed]",
      "text/plain": [
       "<Figure size 432x288 with 1 Axes>"
      ]
     },
     "metadata": {
      "needs_background": "light"
     },
     "output_type": "display_data"
    }
   ],
   "source": [
    "plt.plot(h2.history['f1_m'][1:])\n",
    "plt.plot(h2.history['val_f1_m'][1:])\n",
    "plt.title('Model metric')\n",
    "plt.ylabel('F1 metric')\n",
    "plt.xlabel('Epochs')\n",
    "plt.legend(['train','Validation'], loc='upper left')\n",
    "plt.show()"
   ]
  },
  {
   "cell_type": "code",
   "execution_count": 99,
   "metadata": {},
   "outputs": [
    {
     "data": {
      "image/png": "[encoded data removed]",
      "text/plain": [
       "<Figure size 432x288 with 1 Axes>"
      ]
     },
     "metadata": {
      "needs_background": "light"
     },
     "output_type": "display_data"
    }
   ],
   "source": [
    "plt.plot(h2.history['loss'][1:])\n",
    "plt.plot(h2.history['val_loss'][1:])\n",
    "plt.title('Model Loss')\n",
    "plt.ylabel('Loss')\n",
    "plt.xlabel('Epochs')\n",
    "plt.legend(['train','Validation'], loc='upper left')\n",
    "plt.show()"
   ]
  },
  {
   "cell_type": "code",
   "execution_count": null,
   "metadata": {},
   "outputs": [],
   "source": []
  }
 ],
 "metadata": {
  "kernelspec": {
   "display_name": "Python 3",
   "language": "python",
   "name": "python3"
  },
  "language_info": {
   "codemirror_mode": {
    "name": "ipython",
    "version": 3
   },
   "file_extension": ".py",
   "mimetype": "text/x-python",
   "name": "python",
   "nbconvert_exporter": "python",
   "pygments_lexer": "ipython3",
   "version": "3.6.7"
  },
  "toc": {
   "base_numbering": 1,
   "nav_menu": {},
   "number_sections": true,
   "sideBar": true,
   "skip_h1_title": false,
   "title_cell": "Table of Contents",
   "title_sidebar": "Contents",
   "toc_cell": false,
   "toc_position": {},
   "toc_section_display": true,
   "toc_window_display": false
  }
 },
 "nbformat": 4,
 "nbformat_minor": 4
}
